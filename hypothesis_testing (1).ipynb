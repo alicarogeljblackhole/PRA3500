{
  "nbformat": 4,
  "nbformat_minor": 0,
  "metadata": {
    "colab": {
      "name": "hypothesis_testing",
      "provenance": [],
      "collapsed_sections": []
    },
    "kernelspec": {
      "name": "python3",
      "display_name": "Python 3"
    }
  },
  "cells": [
    {
      "cell_type": "code",
      "metadata": {
        "id": "LonaCqoIqV-G",
        "colab_type": "code",
        "colab": {}
      },
      "source": [
        "\"\"\"\n",
        "\n",
        "Use your Monte Carlo skills from last week – create an event that occurs at 0,0,0 in our coordinate system and moves in the positive z direction (only).\n",
        "Its angle can be at any angle with respect to the x and y axis (choose randomly) and it will then pass through our detector.\n",
        "Build 8 Z detection points and divide up the x/y space into pixels of the detector – choose some appropriately size detection points.\n",
        "Each time it passes through the a detector layer, (for z=1,2…8), calculate where it should be based on the angle. Then round that the find which pixel of the detector it is in, and then, add a small probability (10% maybe) that it is found in an adjacent pixel (there are 8 adjacent pixels) – pick one randomly. Record that as the coordinate and then move to the next detector layer.\n",
        "When the particle leaves the last layer of the detector we can ignore it.\n",
        "\n",
        "\"\"\"\n",
        "\n",
        "%matplotlib inline\n",
        "import numpy as np\n",
        "import random\n",
        "import matplotlib.pyplot as plt\n",
        "from scipy.stats import skew, kurtosis\n",
        "import scipy.stats\n",
        "\n",
        "#specify parameters\n",
        "#mm: for how many particles at the time you are doing simulation\n",
        "aa=-1000 #lower edge of detector\n",
        "bb=1000 #upper edge of detector\n",
        "cc=0.1 #width of the detection cell\n",
        "#null_activate: if you want to exclude every 1% of the measurements from chi2 calculation, choose False, else True\n",
        "\n",
        "def chi_square(mm, null_activate, statistics):\n",
        "  chi=[] #define list for chi-square\n",
        "\n",
        "  print(\"Simulation run for: \", mm, \" particle(s).\")\n",
        "\n",
        "  #define detection cells of the detector\n",
        "  detectorX=np.arange(aa,bb,cc) #list for x axis of detector\n",
        "  detectorY=np.arange(aa,bb,cc) #list for y axis of detector\n",
        "\n",
        "  for k in range(mm): #for every particle we track (one at the time):\n",
        "    # Data for a three-dimensional line (3D location of a particle)\n",
        "    zline = np.linspace(0, 10, 80) #create z axis\n",
        "    xline=zline*np.tan(random.randint(0,90)) #for every z, there exist such x, y based on a random initial angle\n",
        "    yline=zline*np.tan(random.randint(0,90))\n",
        "\n",
        "    #get 3D location of a particle for only 8 detection points\n",
        "    number=int(len(zline)/8.5) #to get 8 detection points, excludig 0 start (which we will later substract)\n",
        "    XdetPoints=xline[::number]\n",
        "    YdetPoints=yline[::number]\n",
        "    ZdetPoints=zline[::number]\n",
        "\n",
        "    #make arrays into lists so you can use list tools (like .pop()/.remove()...)\n",
        "    ZdetPoints=list(ZdetPoints)\n",
        "    YdetPoints=list(YdetPoints)\n",
        "    XdetPoints=list(XdetPoints)\n",
        "\n",
        "    XdetPoints.remove(XdetPoints[0])\n",
        "    YdetPoints.pop(0)\n",
        "    ZdetPoints.pop(0)\n",
        "\n",
        "    if mm==1:\n",
        "      print(\"\")\n",
        "      print(\"Actual points where the particle ended:\")\n",
        "      print(\"z points\",ZdetPoints)\n",
        "      print(\"y points:\",YdetPoints)\n",
        "      print(\"x points:\",XdetPoints)\n",
        "    if mm!=1:\n",
        "      pass\n",
        "\n",
        "    #detected points lists (error of non-infinetelisimal detection cells)\n",
        "    x_cell_size_error_incl=[]\n",
        "    y_cell_size_error_incl=[]\n",
        "\n",
        "\n",
        "    \"\"\"which cells detect the particle:\"\"\"\n",
        "    m=0\n",
        "    for m in range(len(XdetPoints)): #for every element in x values for detected particles\n",
        "      j=0\n",
        "      for j in range(len(detectorX)): #for every possible detection cell\n",
        "        if j<(len(detectorX)-1): #except for the last detection cell (out of range error)\n",
        "          if detectorX[j]<=XdetPoints[m]<detectorX[j+1]: #if the value of the detected points is between the value of jth and j+1th element of detection cell\n",
        "            x_cell_size_error_incl.append((detectorX[j]+detectorX[j+1])/2) #set this detector cell as the cell that detected the particle\n",
        "    else:\n",
        "      pass\n",
        "\n",
        "    m=0\n",
        "    for m in range(len(YdetPoints)): #for every element in y values for detected particles\n",
        "      j=0\n",
        "      for j in range(len(detectorY)): #for every point in the detection cells\n",
        "        if j<(len(detectorY)-1): #except for the last detection cell\n",
        "          if detectorY[j]<=YdetPoints[m]<detectorY[j+1]: #if the value of the detected points is between the value of jth and j+1th element of detection cells\n",
        "            y_cell_size_error_incl.append((detectorY[j]+detectorY[j+1])/2)\n",
        "    else:\n",
        "      pass\n",
        "\n",
        "    if mm==1:\n",
        "      print(\"\")\n",
        "      print(\"Detector cells that would ideally detect the particles, given the non-infinetelisimal nature of detector cells:\")\n",
        "      print(\"x cells: \", x_cell_size_error_incl)\n",
        "      print(\"y cells: \", y_cell_size_error_incl)\n",
        "    if mm!=1:\n",
        "      pass\n",
        "\n",
        "    \"\"\"\n",
        "    add a small probability (10% maybe) that it is found in an\n",
        "    adjacent pixel (there are 8 adjacent pixels) – pick one randomly. Record that as the\n",
        "    coordinate and then move to the next detector layer.\n",
        "    \"\"\"\n",
        "\n",
        "    #only consider cases where a particle lands on every detector (if it happens for instance to have the initial angle of 89 degrees or so wrt z axis, then it will not hit the detector)\n",
        "    if len(y_cell_size_error_incl)==len(x_cell_size_error_incl)==8: \n",
        "\n",
        "      #each elemenet of detected x,y values gets a random number 0-1\n",
        "      probX=[]\n",
        "      for m in x_cell_size_error_incl:\n",
        "        probX.append(random.random())\n",
        "      #print(probX) \n",
        "      probY=[]\n",
        "      for m in y_cell_size_error_incl:\n",
        "        probY.append(random.random())\n",
        "      #print(probY) \n",
        "\n",
        "      #lists of final detected locations of each particle (incl prob that it is found in an adjacent pixel)\n",
        "      x_measured=[]\n",
        "      y_measured=[]\n",
        "\n",
        "      #probability that it is detected in the detected pixel, prob that it is detected in any 8 of the adjacent pixels...\n",
        "      i=0\n",
        "      for i in range(len(probX)):\n",
        "        if 0<=probX[i]<0.0375:\n",
        "          x_measured.append(x_cell_size_error_incl[i]-cc)\n",
        "        if 0.0375<=probX[i]<0.075:\n",
        "          x_measured.append(x_cell_size_error_incl[i]+cc)\n",
        "        if 0.075<=probX[i]:\n",
        "          x_measured.append(x_cell_size_error_incl[i])\n",
        "\n",
        "      i=0\n",
        "      for i in range(len(probY)):\n",
        "        if 0<=probY[i]<0.0375:\n",
        "          y_measured.append(y_cell_size_error_incl[i]-0.25)\n",
        "        if 0.0375<=probY[i]<0.075:\n",
        "          y_measured.append(y_cell_size_error_incl[i]+0.25)\n",
        "        if 0.075<=probY[i]:\n",
        "          y_measured.append(y_cell_size_error_incl[i])\n",
        "      \n",
        "\n",
        "      \n",
        "\n",
        "      if mm==1:\n",
        "        plt.plot(y_measured, x_measured, \"red\", label=\"detection\")#make graph of actual particle\n",
        "        print(\"\")\n",
        "        print(\"measured x (probs incl): \", x_measured)\n",
        "        print(\"measured y (probs incl): \", y_measured)\n",
        "      if mm!=1:\n",
        "        pass\n",
        "\n",
        "      \"\"\"\n",
        "      Use the information from the slides linked to calculate the 𝜒\n",
        "      2 value for your track fit\n",
        "      compared to your data. We expect this to not be perfect – we added some\n",
        "      imperfection in there. If the imperfection is not good enough, you can increase the\n",
        "      probabilities discussed.\n",
        "      \"\"\"\n",
        "      sigma=[cc**2]*len(y_measured)\n",
        "      #print(\"sigma list: \", sigma)\n",
        "\n",
        "\n",
        "      Alist=[]\n",
        "      Blist=[]\n",
        "      Clist=[]\n",
        "      Dlist=[]\n",
        "      Elist=[]\n",
        "      Flist=[]\n",
        "\n",
        "      for i in range(len(sigma)):\n",
        "        Alist.append(y_measured[i]/sigma[i])\n",
        "        Blist.append(1/sigma[i])\n",
        "        Clist.append(x_measured[i]/sigma[i])\n",
        "        Dlist.append((y_measured[i]**2)/sigma[i])\n",
        "        Elist.append((x_measured[i]*y_measured[i])/sigma[i])\n",
        "        Flist.append((x_measured[i]**2)/sigma[i])\n",
        "      A=sum(Alist)\n",
        "      B=sum(Blist)\n",
        "      C=sum(Clist)\n",
        "      D=sum(Dlist)\n",
        "      E=sum(Elist)\n",
        "      F=sum(Flist)\n",
        "      #print(A, B, C, D, E, F)\n",
        "\n",
        "      a=(E*B-C*A)/(D*B-A*A)\n",
        "      b=(D*C-E*A)/(B*D-A*A)\n",
        "\n",
        "      if mm==1:\n",
        "        print(\"\")\n",
        "        print(\"Prediction: x=\", round(a,4),\"*y + \", round(b,4))\n",
        "        print(\"\")\n",
        "      if mm!=1:\n",
        "        pass\n",
        "\n",
        "      #predicted x values based on the formula deduced from datapoints\n",
        "      linear_fit=[]\n",
        "\n",
        "      for i in range(len(y_measured)):\n",
        "        #print(y_measured[i])\n",
        "        linear_fit.append(a*y_measured[i]+b)\n",
        "      #print(linear_fit)\n",
        "\n",
        "      #finally find chi\n",
        "      ChiList=[]\n",
        "      for i in range(len(sigma)):\n",
        "        h=(x_measured[i]-a*y_measured[i]-b)**2/sigma[i]\n",
        "        ChiList.append(h)\n",
        "      chi.append(sum(ChiList)) \n",
        "\n",
        "  chi = [x for x in chi if str(x) != 'nan'] #remove infinities\n",
        "  #for i in range(len(chi)):\n",
        "  #  if chi[i]==\"nan\":\n",
        "  #    chi.remove(chi[i])\n",
        "\n",
        "\n",
        "  #plotting graphs\n",
        "  if mm==1:\n",
        "    plt.plot(y_measured, linear_fit, \"blue\", label=\"prediction\") #make graph\n",
        "    plt.legend(loc=\"lower right\")\n",
        "    plt.title(\"Detection vs Prediction\")\n",
        "  if mm!=1:\n",
        "    plt.hist(chi)\n",
        "    plt.title(\"full histogram\")\n",
        "\n",
        "\n",
        "  #leave out 1 percent\n",
        "  if null_activate==True:\n",
        "    probsnull=[]\n",
        "    for i in range(len(ChiList)):\n",
        "      probsnull.append(random.random())\n",
        "    for i in range(len(probsnull)):\n",
        "      if probsnull[i]<0.01:\n",
        "        chi.remove(chi[i])\n",
        "\n",
        "  if len(y_cell_size_error_incl)!=len(x_cell_size_error_incl)!=8:\n",
        "    pass\n",
        "\n",
        "  print(\"final chi2:\", chi)\n",
        "\n",
        "  if statistics==True:\n",
        "    print(\"\")\n",
        "    print(\"mean: {}\" .format(np.mean(chi)))\n",
        "    print(\"variance: {}\" .format(np.var(chi)))\n",
        "    print(\"skewness: {}\" .format(skew(chi)))\n",
        "    print(\"kurtosis: {}\" .format(kurtosis(chi)))"
      ],
      "execution_count": 0,
      "outputs": []
    },
    {
      "cell_type": "code",
      "metadata": {
        "id": "sNslc5x7I_3s",
        "colab_type": "code",
        "colab": {
          "base_uri": "https://localhost:8080/",
          "height": 570
        },
        "outputId": "12176df1-a4a3-4f64-fd96-a7ce09ee0545"
      },
      "source": [
        "chi_square(1, False, False)"
      ],
      "execution_count": 49,
      "outputs": [
        {
          "output_type": "stream",
          "text": [
            "Simulation run for:  1  particle(s).\n",
            "\n",
            "Actual points where the particle ended:\n",
            "z points [1.139240506329114, 2.278481012658228, 3.417721518987342, 4.556962025316456, 5.69620253164557, 6.835443037974684, 7.974683544303798, 9.113924050632912]\n",
            "y points: [-0.9578406707120047, -1.9156813414240095, -2.8735220121360143, -3.831362682848019, -4.789203353560024, -5.747044024272029, -6.704884694984034, -7.662725365696038]\n",
            "x points: [1.845313508214526, 3.690627016429052, 5.535940524643578, 7.381254032858104, 9.22656754107263, 11.071881049287157, 12.917194557501682, 14.762508065716208]\n",
            "\n",
            "Detector cells that would ideally detect the particles, given the non-infinetelisimal nature of detector cells:\n",
            "x cells:  [1.8500000002277943, 3.6500000002282036, 5.550000000228636, 7.350000000229045, 9.250000000229477, 11.050000000229886, 12.950000000230318, 14.750000000230727]\n",
            "y cells:  [-0.9499999997728423, -1.9499999997730697, -2.8499999997732743, -3.8499999997735017, -4.749999999773706, -5.749999999773934, -6.749999999774161, -7.649999999774366]\n",
            "\n",
            "measured x (probs incl):  [1.8500000002277943, 3.6500000002282036, 5.550000000228636, 7.350000000229045, 9.250000000229477, 11.050000000229886, 12.950000000230318, 14.750000000230727]\n",
            "measured y (probs incl):  [-0.9499999997728423, -1.9499999997730697, -2.8499999997732743, -3.8499999997735017, -4.749999999773706, -5.749999999773934, -6.749999999774161, -7.649999999774366]\n",
            "\n",
            "Prediction: x= -1.9276 *y +  -0.0128\n",
            "\n",
            "final chi2: [3.2866539221736852]\n"
          ],
          "name": "stdout"
        },
        {
          "output_type": "display_data",
          "data": {
            "image/png": "[encoded data removed]",
            "text/plain": [
              "<Figure size 432x288 with 1 Axes>"
            ]
          },
          "metadata": {
            "tags": [],
            "needs_background": "light"
          }
        }
      ]
    },
    {
      "cell_type": "code",
      "metadata": {
        "id": "VNZn1ubWPEo7",
        "colab_type": "code",
        "colab": {
          "base_uri": "https://localhost:8080/",
          "height": 536
        },
        "outputId": "0f036f46-eade-423a-c907-10274d1293d0"
      },
      "source": [
        "chi_square(500, False, True)"
      ],
      "execution_count": 65,
      "outputs": [
        {
          "output_type": "stream",
          "text": [
            "Simulation run for:  500  particle(s).\n"
          ],
          "name": "stdout"
        },
        {
          "output_type": "stream",
          "text": [
            "/usr/local/lib/python3.6/dist-packages/ipykernel_launcher.py:184: RuntimeWarning: divide by zero encountered in double_scalars\n",
            "/usr/local/lib/python3.6/dist-packages/ipykernel_launcher.py:185: RuntimeWarning: divide by zero encountered in double_scalars\n",
            "/usr/local/lib/python3.6/dist-packages/ipykernel_launcher.py:199: RuntimeWarning: invalid value encountered in double_scalars\n",
            "/usr/local/lib/python3.6/dist-packages/ipykernel_launcher.py:205: RuntimeWarning: invalid value encountered in double_scalars\n",
            "/usr/local/lib/python3.6/dist-packages/ipykernel_launcher.py:184: RuntimeWarning: invalid value encountered in double_scalars\n",
            "/usr/local/lib/python3.6/dist-packages/ipykernel_launcher.py:185: RuntimeWarning: invalid value encountered in double_scalars\n"
          ],
          "name": "stderr"
        },
        {
          "output_type": "stream",
          "text": [
            "final chi2: [6.343728343728459, 0.4395128750642461, 0.020687871735203606, 85.87011587177068, 1.70549758598611, 1.098598943659155, 22.391906799042076, 1.9767336968621945, 0.9418061796974938, 0.9047619047619078, 0.5822573740669333, 41061.63113369037, 0.06834983958714314, 127.92848335388695, 1.0188766381807386, 17.93107476636329, 1.3844539105682543, 2.816708600039757, 579.0304667791241, 1.1547619047621116, 0.4638252509204124, 12.390096794596767, 3.475817722110598, 10144.851532571678, 0.46274509803942604, 0.5357142857145043, 114.19995272985527, 23.539453392295894, 577.5823377995243, 3.851859888774471e-32, 0.6173361522201546, 1.0324508588635775, 6.928444104917839, 8.653403752068321, 2.887051064185867, 53.73822444109176, 0.5357142857145317, 0.40381024715987074, 6.4155786656188605, 0.585028942290826, 0.5776212362380183, 0.1931349911726564, 1.1748408174483242, 555.520075578671, 0.12461139066061387, 1.6142857646649629, 3.7921473518633184, 0.5357142857137248, 0.77837156447211, 2.055909216718343, 3.0774828790732522, 0.9014514896871936, 13.345993726832685, 0.7428398471494624, 4.2194357366781325, 0.017353579175712754, 0.04437534904081868, 1.3788700296846104, 0.5357142857145403, 0.5970864834964311, 0.9702647657843877, 1.1190476190478575, 0.850466818067234, 67.78504091860917, 0.5357142857144912, 0.5833333333335979, 23.188191881919536, 98.73446327683335, 0.6041003429399375, 0.7811061514856146, 0.3637379315916819, 2.213971967275045, 0.2948417284753967, 163147.15570180854, 100.53199498118923, 2.321237947305149, 3.925051173044215, 0.4667817635399148, 4.556174441954249, 0.56814534184641, 0.5802323880126485, 2.140465868226156, 9.180246006635526, 18.071404044084236, 485.71428571450645, 0.5580370646001869, 7.42857142857498, 0.047242537522813696, 0.8688391038696537, 0.4761904761906941, 2.8888949165808533e-31, 3.280964358295938, 1.5080482718052093, 0.8537543543333758, 0.8962039045557199, 1.946073384145211, 26.80583501005938, 7.425078657579417, 1621.714285715024, 3.214766432158225, 0.6702308127282562, 1.386906168754628, 0.04807362131723947, 0.5357142857143187, 1.784140424007774, 1.240255120028402, 1.1547619047621387, 0.6190476190478967, 1.855871499891913, 1.2860684593446177, 0.6796872378269219, 0.9925466308502913, 538.8571428573878, 0.48919793924735705, 18235.974276533307, 0.81317187168085, 24.0384259934927, 0.45617185881074074, 1.806824479455649, 0.4667827278656934, 18021.701128395383, 0.7227366255147322, 2.264169929951435, 12.157407407412952, 1.2434418378580567, 1001.5000000004546, 0.08938547486037549, 0.36431742543140055, 840.1507278777746, 142.9283550856397, 39.4139980877716, 374.5296317845571, 0.4761904761907545, 0.47619047619070204, 10.360691294857386, 2.8690476190480574, 8.536367007667787, 91.37189409372584, 0.0668083675192358, 2.211630462891564, 18352.3887147393, 0.5691939120633929, 180.62168148694815, 10101.86643226109, 1.6108986191754826, 0.82142857142867, 0.0007742317217051373, 4.229400900756862, 1.1261635564596415, 1.9761904761908469, 356.93778769719603, 0.8690476190477643, 5.383343681759134, 6.365962766598879, 18.66539196942705, 3.172909633487567, 41.24919735225674, 0.5833333333336029, 0.9245901639348443, 29.57622950820908, 1.6851851851857254, 9.705823954591791, 1.6099288555800655, 0.6379761940431389, 1.78560809897681, 37.00509745127817, 0.6190476190478915, 13.720176730492227, 4.643978946223292, 1.1513812673456698, 2767.7207977213466, 1.544559057906967, 0.5357142857145278, 0.5566566171559855, 1.8489911958918084, 0.4644005793071658, 11.718086194710045, 20.851370052597336, 0.9484687514190383, 38.686883268203225, 0.5725231242284027, 6.432137285494325, 0.6239165554831264, 0.6923453308123599, 32.67857796207514, 5614.43708609448, 0.7358952170336222, 0.5302924888475519, 17.81122448980441, 1.1609646662931623, 0.8690277199088254, 276.47739396932525, 3.1016763444247073, 3.0186608122948613, 3.76722936850119, 0.4761904761906942, 1.823693778884958, 43.34904270988653, 0.6428571428572396, 3.6383371674834573, 127.55102040822132, 1.240607200089058, 2342.654114932634, 397.7814319973172, 4.067059033351557, 753.1421112336775, 14.71206214196685, 2226.8571428581545, 17.243364822320004, 1.2994946165680863, 0.58854258898557, 28.904922492704983, 0.12929919834502956, 8.404251207729802, 102.39799432210431, 14.078647466183744, 13.668831168832039, 2.9217897018083256, 1.3393163062101985, 0.6771760669607294, 4.429638872090641e-31, 0.719507705174369, 45299.71428573491, 0.05715581764575122, 62.93470607342542, 12.891707942853419, 1.1547619047624993, 58.61884050276326, 0.5732905696656775, 2.2032638563789975e-27, 3.375615932126395e-27, 0.4984072445786845, 0.6366230714059212, 0.47619047619069327, 1.0855812357539882, 25.28477992634132, 3.5603529679924106, 7480.7500000034, 35.15212609970722, 18.235084188182704, 0.5551495865067185, 112.23052280009054, 73.11192392099348, 0.565150955435652, 1.5478414456031246, 5.269197396964945, 2.290396643180505, 121.39525051090025, 20.465116279077897, 1.2812010846644595, 107.15828513983418, 1.10801167609205, 5.435014595097981, 0.8607322957522927, 394.58059587492016, 2242.874731567983, 1.8214285714289278, 41185.9811289444, 136.21625333440437, 0.7261904761905814, 214.37500000000807, 260256.5802214385, 0.58854258898557, 99.5416666667114, 0.25681448705243465, 0.6190476190478982, 0.550999186055626, 0.4761904761906891, 43966.00032971297, 0.6235711853691152, 2.7130695257787334, 0.0035417035594135916, 1333.79487179523, 3415.623514574382, 265.97178571431414, 9.100018987229688e-31, 4.603874928066543, 0.6190476190478995, 281.50000000012795, 1.244839945618879, 3.490154606794837, 0.9162429736403471, 2.7252679085057136e-26, 0.8997509438334965, 0.559685705651511, 1.2318981122319177, 0.47619047619069377, 28.191136772644608, 1.0260463140007061, 2.2963879267696186, 25.499165148764394, 1222373.7948723508, 6.382415671348134, 1.8690476190479663, 0.829218106996262, 15583.667932976143, 2005.5492858404464, 1.7261904761908113, 0.007792856548167707, 9.926377787127366, 49.805861174246026, 0.6071999488461104, 12530.000088388564, 5.972455845250803, 2.2529661478180083, 772.9990349640107, 0.7266172675047854, 902.4089398977237, 6445.329052972518, 1.8385699508671116, 0.5833734499013713, 3.181793943064539, 17.285873192437943, 0.765588315827116, 358.15231012984816, 4.007860214269837e-28, 1.000297429360706, 0.566950087031264, 1.0615413689679911, 7.9212352771119, 443.3195528027773, 8638.675530554947, 18615.973333333026, 0.6142715549990461, 0.5250071397974858, 15998.545342000822, 0.49480455220210473, 1.1069792508762766, 0.7519479369580093, 1.6595303867405677, 155.49233716482374, 2.227763840699334, 1.305949864089758, 2.488236488147887, 6.474019702530966, 0.6155832699427982, 0.46358591789276643, 0.5772274648764871, 0.8571583514100127, 1.3338112244608085, 7.248873547351057, 5.271537061048385, 0.833633877289547, 0.5357142857145288, 1.449493884953797, 1.4649690754499887, 251.3793103449408, 11.852340145028469, 2.632282627944426, 0.4295148003612136, 2.7623998378334998e-27, 1.3821852132229275, 2.8666478810704454, 2.7119799221759178, 108.98534155535243, 2.8888949165808533e-31, 0.7884968087447751, 1.6831108531630143, 2.584646715070427, 0.7665328002947764, 0.007898187102793651, 58105.42857145498, 9.032342088130893, 18.605780576568478, 3557.9967102415053, 984.379719051828, 27.868134586850022, 30.52564578231892, 1.99985327562265, 1.6199267192788946, 3.8281761703854587, 1.154761904762105, 2.33469560315731, 0.5357142857145283, 54.46405804695421, 0.4685762991578329, 0.6293933845873113, 26.226512134256, 3.005135730008699, 11.2354148447069, 1.0640762942739475e-30, 1.154761904761645, 1.55992381369018, 51070.857142880355, 0.8218185521305675, 1715.0338876025821, 2.4902524116944016, 2.651808242220965, 1.1547619047623034, 35.6047237713912, 5.132859386130014, 5.588320318609715, 15.45213549337964, 6062.857142859839, 0.648746602234995, 34.59139321553882, 23.950214954707068, 66401.71428574469, 13.207179919026899, 1.1902834008102614, 1.6585888282235377, 0.6065022679655538, 1.1400822503273638, 0.5357142857145349, 393.948717948897, 0.5284914042882439, 1.5357142857142465, 153.9031128404738, 0.6010845986987539, 0.8061268690240108, 20374.857142866404, 0.5833333333335985, 2410.673768180487, 2.720754081805094, 31.87483198924447, 19.609590300718793, 1.6131176848522504, 0.5253472848640263, 1.214787281079817, 35.842703533025116, 3.036746465276224, 101.17040649402914, 0.47619047619069116, 119.22239753084952, 9.858489713545831, 1.4047223671933047, 31464.717948732374, 1.7962070914965003, 0.6190476190477238, 2.367429848234669, 2.9732682393061554, 12774.857142862951, 19.47886133033688, 2.861454274107186, 0.5050699418372916, 0.5673408850100194, 1.4489289719068847, 0.5833333333346584, 0.6387733078088125, 41.57559167379498, 150201.70443354244, 0.6190476190478982, 1.522255028043671e-27, 101.42478041488121, 0.3084357168561541, 21.057083621287923, 0.8154229976553448, 2.244301485188222, 0.38866396761151195, 14767.428571435288, 2.578295397934994, 0.6702024186757076, 0.4761200754109539, 6.646472565913886, 882.6575618171901, 1.1727925791608143, 454.1905586393233, 2130.696906082221, 2421.714285715395, 11257.500000005115, 66.96678642128839, 72740.00071787406, 129.75822193126803, 2.2881144534120548, 2154.774087610819, 27.63125358804225, 1392.869565218015, 29.149300022284482, 0.8272760830904188, 3.411017241141742, 0.5335281163287745, 1.6677107826670785, 3.407585537316721, 0.5309183017047546, 37.814773817428716, 6.640610278698855, 5.555228276880287, 0.5733675715336318, 0.9189219104543964, 0.47619047619069266, 5125.131639723373, 204.1762452108212, 3.3756401692273137, 1.535714285714644, 0.9506388403873698, 3.851859888774471e-32, 15.311026999756299]\n",
            "\n",
            "mean: 5206.794008711397\n",
            "variance: 3337638453.4811196\n",
            "skewness: 19.464151589358163\n",
            "kurtosis: 402.556033840547\n"
          ],
          "name": "stdout"
        },
        {
          "output_type": "display_data",
          "data": {
            "image/png": "[encoded data removed]",
            "text/plain": [
              "<Figure size 432x288 with 1 Axes>"
            ]
          },
          "metadata": {
            "tags": [],
            "needs_background": "light"
          }
        }
      ]
    },
    {
      "cell_type": "code",
      "metadata": {
        "id": "4OK5XrnnPKwH",
        "colab_type": "code",
        "colab": {
          "base_uri": "https://localhost:8080/",
          "height": 468
        },
        "outputId": "4737f1a8-b91e-4e0d-d9f9-6df238133ef6"
      },
      "source": [
        "chi_square(500, True, True)"
      ],
      "execution_count": 66,
      "outputs": [
        {
          "output_type": "stream",
          "text": [
            "Simulation run for:  500  particle(s).\n"
          ],
          "name": "stdout"
        },
        {
          "output_type": "stream",
          "text": [
            "/usr/local/lib/python3.6/dist-packages/ipykernel_launcher.py:184: RuntimeWarning: invalid value encountered in double_scalars\n",
            "/usr/local/lib/python3.6/dist-packages/ipykernel_launcher.py:185: RuntimeWarning: divide by zero encountered in double_scalars\n"
          ],
          "name": "stderr"
        },
        {
          "output_type": "stream",
          "text": [
            "final chi2: [1.5423361918244944, 1.154639175258254, 109.6485326325513, 1.726190476190853, 0.7277298248554649, 0.8349218597229314, 0.3768704604397119, 2.7641891107023286, 33.26057880181037, 5.626646479942007, 2.3933387523293685, 287.7377227547801, 14.992199687994368, 30708555.428585403, 0.6115217241143897, 1.2543738489876823, 4.024439918535039, 2.1477105768439535, 0.5346506372292, 11.347983067728123, 14213.4181001329, 0.7250000000001231, 1.6160394025378844, 1.3021829334296877, 0.583333333333597, 0.6271187639058393, 0.42308090852475355, 1.1739392151243595, 12.056919937250372, 0.8495443099639595, 0.05827514703082836, 279.38775510216755, 83.38607398282339, 15.462745098045321, 3016.936671577056, 908.2976558135023, 2.885245901640645, 1.4999999999999996, 1.3838664768727995, 0.6428571428574466, 6422.490328387989, 482421.2586257792, 0.046192228424590386, 7.1075393117407675, 18776.648927040027, 5.7395248001029255, 1.1167975385404332, 312.7596067919057, 0.6535849715204393, 8.027843819702513, 439.4285714287712, 26.794603201218862, 1.751583915180163, 92.317556970266, 1.8214285714289198, 0.9349876040377068, 945.2642606110323, 664.521487204225, 13.380507891274283, 12210.000000113818, 6.176463116959408, 0.8841600901920555, 0.6428571428572561, 0.49683576501856824, 0.7261904761906189, 1.1547619047621396, 1.2576427604140095, 1.9032700249758883, 138.76482033342123, 6990.937381406166, 0.12810723663741796, 0.6190476190479081, 2.1565076302404864, 0.5397921549850803, 1.5903442175578593, 3.0287171918125164, 0.5801773244545956, 2.7690133737076215, 34.357872691575544, 0.5833333333336035, 6.458100558662201, 0.16484186398112227, 0.5833333333336126, 271.500000000123, 0.7110010750889538, 0.4775072046060814, 3.054196449546678, 0.8690476190476198, 0.47619047619069493, 399.5255102042653, 3.0509802043649126, 13.484593837541269, 8813.755795984054, 0.4761904761906932, 4.578310262616678, 13687.451378171916, 5.603879636180741, 42.104061787866, 599.979695431741, 0.579908377531703, 0.8676548179933987, 0.8422059642274528, 59.5670807296347, 0.6190476190479046, 2.4955910733945657, 109.97986013986474, 1.0463982218647567, 1.6434108527131857, 71.98974361216196, 114.89215598612448, 0.19401778496370994, 0.8690476190476156, 0.5060131244143145, 5848.2162162181085, 1835.479069768289, 779.0213318494596, 1.1547619047621505, 3.722199592669691, 0.6432064573583204, 0.4556151324132399, 159.2287004910034, 123.50000000005353, 0.9018346888597747, 1.7055197234795918, 0.5833333333333971, 252.63270826370368, 0.5357142857145291, 0.46164657198170705, 2.421652421653002, 0.4678670305721889, 4.707646176911358, 0.6190476190479969, 0.5535314724435465, 0.4012943298835044, 59496.77438138561, 44.6561108362375, 1.2508685696034223, 189.01381200021265, 0.44497897723011676, 0.7311632601567225, 0.8886033702720237, 4.093401117685571, 6.04485891946256, 1.1190476190478074, 36.87986463622491, 8.034807831761727, 16623.429467090875, 4644.889932931483, 3167.12690355475, 0.5399993519748529, 836.2305678667018, 1.5808508866879274, 4.292241259228478, 2.075261221361121e-25, 0.5278306308520723, 0.12847404299953466, 0.3678216356751086, 6.756518082424597, 0.2963933765154945, 0.5357142857145306, 1.508043901921635, 421.6511627908917, 18.482758620695925, 9.495580381805935, 1.0091872908589115e-28, 4748.412344360304, 7.765590476433986, 2.3828458290061114, 232.76720785230327, 9.193707293819353, 0.5649385172269852, 1.4274975670326504, 0.6190476190479001, 3026.8500214882697, 1.2406316285647665, 2.1416294908195104, 6260.126168227167, 297.808517887555, 0.5298495147436095, 889.9795918371378, 6.7533508165667415, 3.2565054867486083, 0.008755289654169648, 0.8793103448275862, 1.823603339022554, 75.22161927504006, 0.0011299600538201544, 218687.06767927576, 13.6531717342423, 47.681163882689155, 1971.9999994870257, 78.69865172474542, 0.8069036497509793, 1.194052987598937, 1.301092043682344, 206.0508713346444, 1.7660741619534766, 3.7549912773793226, 1.916447467474555, 36.47310637514011, 2.66236303227457, 5.5222919461641125, 5.159112489258868, 21.533734422011452, 1.1950791289723455, 0.7179487179490442, 1.7261904761907827, 1.0515970515972792, 2.5661605206081815, 11.09736721160938, 1.893805542261818, 1.9047619047621844, 0.476190476190693, 1.0322060010275356, 0.008445708172630831, 17.309828271013398, 3.1396847336035423, 746.3318592832792, 3.887102874432614, 13.313934426234884, 2.0809716599195602, 1.833250219657859, 25.790805333700522, 1.3333333333334834, 2.681213905758609, 0.635489290214484, 15.66146456908827, 0.5914909056782396, 2.5896180599846987, 0.510934646162513, 2.1111365705334126, 1.1687822569398205, 0.6706047685968813, 2.3819189599792723, 7528.4626495145485, 3.7204138279093395, 1.4935344365814471, 1525.2692034980655, 8.402941261951916, 0.590162522410296, 0.4761904761906928, 9.581501473326497e-31, 3.2114527451547386e-25, 1.6181869527400063, 1.404761904762175, 3.1533634868599245, 67.0695754717027, 1.3152559637457522, 0.8260301112528161, 1.2695293482096313, 0.47619047619069854, 0.5961066099644893, 1.1391105249072743e-27, 2.422904797544427, 2.0073735295355526, 53.84257305456743, 371.73335742028434, 140.79563182532843, 40.1521087146802, 2.639018691589471, 44.444662464549836, 0.875, 9.955664634632111, 0.5357142857145226, 98.95788368931599, 7.509578544064717, 2.5744124627636005, 7.128331295696528, 2.006544688842707, 0.332904470891656, 0.8890725669718555, 4.237045877651918e-31, 2.7879897013574806, 7.854583298653248, 8210.000063262965, 0.01145202080450958, 0.47619047619069266, 1.4766871589417696, 0.5691516169678845, 504.3625310859453, 0.6222617930394974, 9.1515705450451, 1.414190666554201, 961.3533856654753, 411.17948717967414, 0.5833333333335926, 1.9294936422627011, 133.82148148149213, 38.698039215704014, 3.6184454764632052, 0.5541988035761655, 4.442272972525822e-27, 4.228677154244407, 6.232247670278874e-26, 0.624165612962295, 17.376430718084332, 7.807586545843353, 2.705624016780722, 0.7649687220736276, 0.9379872146428208, 2.642857142857887, 36.83925549916923, 5.848491426093398, 3.1621612467400615, 3.5746654772527036, 0.4334510208089266, 2.553126897390358, 1.6084006643957802, 3.5748114365909722, 4.342520085426681, 282.5782122905922, 1.9002401743252055, 896.1587301591379, 3.839487272433021, 17.239795918375147, 1.8835826522047454, 139.42857142863176, 2.1547619047623305, 6.402804686781865, 2.2897196261692674, 0.4761904761906922, 2.5469521518598564, 0.5580601092897494, 1.3915386688230502, 0.5975542982298604, 2.1431372475227826, 2.1580448065178572, 7.755403994402308, 0.5833333333335973, 52.75530110263059, 2.1094177738948545, 0.7251708745991103, 0.6292277339348997, 0.4761904761906964, 0.4001560633033058, 1.9509899881126107, 14.173257454162687, 0.47619047619069266, 54.39702190286456, 0.7689121579134954, 2.843906131719395, 0.555519624301112, 1.1547619047619428, 0.6976619338936734, 1.5272644307551826, 1.6138458790062409, 1.5873296411970548, 0.7004261887985996, 1.8555228895430196, 237.64045904850326, 11.337645303905042, 1.265939115450999, 27.372873743251272, 1623.0456852799255, 1.6897881229484937, 1.5355705203854195, 4.625433099890056, 2.4845134887455105, 0.028956926571722684, 5290.000000002405, 0.642857142857449, 49.76030823396882, 290773.3118972013, 24.162821185116155, 0.7304632585746024, 0.6282961016209553, 0.5254219556425868, 0.8172522286317278, 9.280612244902208, 0.9706089969843434, 2.372893517879075, 2.996050737168715, 0.5411705936227585, 0.08399832003363723, 870.2343116202662, 1772.1489311729974, 24.831223363951505, 0.47619047619069266, 1820.351945855311, 1179.0372923848856, 1.7661376392632753, 0.5833333333330301, 2.839574193442848, 11.838716765551075, 1.3339662446663614, 0.9678286434275547, 1.385386988156512, 185.3892149670683, 136.44884100568996, 6.261747152629688, 1.1190476190479415, 0.8754619321038212, 0.8587123991195986, 4.038687973088441, 0.6047176554681867, 0.7790605001977413, 4348.8634122290605, 0.7787741715233097, 3386.0000000015393, 4.342879405094324, 4.768966323198413, 48.986595174284936, 2.6922530704560543, 0.6329112475209123, 2.429149797572176, 234030.00000526547, 1.3915846122003699, 1.7261904761907882, 0.8214285714285728, 9.7138128605059e-27, 35.86033129419438, 3.645011655560431, 4.48125379460022e-27, 6239.97383666637, 1222.3914034517975, 0.8213937326982073, 0.024413496124055405, 0.09640195225308017, 0.5390993189480464, 1.0424821921329275, 1.8508942801477484, 5.10732790525537, 1.9649652672911289, 1.4254950877222075, 1.0493477573489485, 39.01943958896579, 0.8055555555556327, 0.5348716406487372, 2125.8724489805522, 0.8170498084291188, 0.3768971911271551, 1.9761904761908535, 12.431027073490874, 4.685168606386649, 0.6413904007917359, 2.6449114497569703, 0.8690476190477913, 0.717457632091065, 0.4761904761906908, 0.4761904761906957, 0.47134462858716025, 2.4523466177247606, 0.8075085896257781, 1.154761904762151, 2.1006927263731714, 0.5357142857143088, 0.47619047619068966, 0.6428571428574406, 0.6912772127653501, 0.8214285714286111, 1.1190476190476188, 12428.000000005652, 2.688602780251644, 0.8677626876340246, 7.874004219600754, 3.1296361596292574e-31, 0.0, 0.466818583518562, 10.4842041542175, 2.250000000000228, 1.1395342294950395e-27, 0.4761904761906892, 1.7261904761907907, 2.117213114754737, 51.00614245549771, 2.246344962089995, 29.831178707223604, 0.6190476190479002, 0.47619047619143157, 0.7712373933282155, 2.4852852811610955, 57.6225878039361, 0.8618086381753435, 0.5833333333335982, 0.5476400564717872, 2.5141551717217625e-25, 11.021417005979309, 1.1395495889883032, 3.2557068866310463, 5.106130520766734, 0.5733419091221251, 40.397368193231024, 66.24698265526358, 1.5637329150433257]\n",
            "\n",
            "mean: 66536.42267674016\n",
            "variance: 1944830513006.288\n",
            "skewness: 21.91711685232285\n",
            "kurtosis: 478.57135996746615\n"
          ],
          "name": "stdout"
        },
        {
          "output_type": "display_data",
          "data": {
            "image/png": "[encoded data removed]",
            "text/plain": [
              "<Figure size 432x288 with 1 Axes>"
            ]
          },
          "metadata": {
            "tags": [],
            "needs_background": "light"
          }
        }
      ]
    }
  ]
}