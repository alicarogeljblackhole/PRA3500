{
  "nbformat": 4,
  "nbformat_minor": 0,
  "metadata": {
    "colab": {
      "name": "Week_1: Probability and Probability Distributions.ipynb",
      "provenance": [],
      "collapsed_sections": []
    },
    "kernelspec": {
      "name": "python3",
      "display_name": "Python 3"
    }
  },
  "cells": [
    {
      "cell_type": "markdown",
      "metadata": {
        "id": "gttW7pNi9Bqq",
        "colab_type": "text"
      },
      "source": [
        "\n",
        "#**PROBABILITY AND PROBABILITY DISTRIBUTIONS:**\n",
        "\n",
        "##Notebook of Week 1 of PRA3500: Statistics/Data Analysis for Physicists"
      ]
    },
    {
      "cell_type": "markdown",
      "metadata": {
        "id": "D_6fCb-Zky6d",
        "colab_type": "text"
      },
      "source": [
        "#Part 1: Probability Relations\n",
        "\n",
        "Instructions:\n",
        "\n",
        "\"*Consider a test which looks for COVID-19 antibodies in the\n",
        "general population. Let’s assume that 1% of our general population has these antibodies. If we can make a test which is 99% sensitive to the antibodies (i.e. we can\n",
        "tell 99% of cases as true positives, 1% as false negatives) and give 95% true\n",
        "negative results (5% are accidentally given a positive result) – it looks like we might be doing pretty well.*\""
      ]
    },
    {
      "cell_type": "markdown",
      "metadata": {
        "id": "-Ov6cxu4lCQ1",
        "colab_type": "text"
      },
      "source": [
        "**Task 1**: Use your programming tool of choice and make a small script which accepts\n",
        "these data as inputs and returns the probability of a positive test indicating\n",
        "correctly that this person does indeed have the anti-bodies. "
      ]
    },
    {
      "cell_type": "code",
      "metadata": {
        "id": "fyJ-3jk3lS8G",
        "colab_type": "code",
        "outputId": "26507685-c75d-4f14-8eba-31af7cf4a1c3",
        "colab": {
          "base_uri": "https://localhost:8080/",
          "height": 52
        }
      },
      "source": [
        "#GIVEN INFORMATION\n",
        "p=0.01 #true positive (the person really has antibodies)\n",
        "n=0.99 #true negative (the person really does not have antibodies)\n",
        "a=0.99 #if a person has antibodies, the probability that it will also test as pozitive \n",
        "b=0.95 #if it does not have antibodies, the probability that the person will also test negative\n",
        "\n",
        "#CALCULATIONS\n",
        "p_t=p*a + n*(1-b) #test result positive (\"a\" amount of people with antibodies (p) and \"(1-b)\"\" amount of people without antibodies (n) will test positive)\n",
        "n_t=n*b + p*(1-a) #test result negative (\"b\" amount of people without antibodies (n) and \"(1-a)\"\" amount of people with antibodies (p) will test negative)\n",
        "\n",
        "#Check (error if #calculations are wrong)\n",
        "def unity(): \n",
        "  u=p_t+n_t #should be 1\n",
        "  if u!=1:\n",
        "    return(print(\"Error in calculations. Sum of positive and negative outcomes of the test does not equal the total number of tests taken.\")) \n",
        "  if u==1:\n",
        "    pass\n",
        "unity()\n",
        "\n",
        "#RESULTS\n",
        "#probability of a positive test indicating correctly that this person does indeed has the anti-bodies (a_rev)\n",
        "a_rev=a*p/p_t #Bayes' theorem (explanation can be found in chapter 2 (equation 2.4) of Bohm's Introduction to Statistics and Data Analysis for Physicists)\n",
        "#probability of a negative test indicating correctly that this person does indeed does not have the anti-bodies (b_rev)\n",
        "b_rev=b*n/n_t #Bayes' theorem\n",
        "\n",
        "#PRINT\n",
        "print(\"The probability of a positive test indicating correctly that this person does indeed has the anti-bodies is \", a_rev, \".\")\n",
        "print(\"The probability of a negative test indicating correctly that this person indeed does not have the anti-bodies is \", b_rev, \".\")"
      ],
      "execution_count": 0,
      "outputs": [
        {
          "output_type": "stream",
          "text": [
            "The probability of a positive test indicating correctly that this person does indeed has the anti-bodies is  0.16666666666666655 .\n",
            "The probability of a negative test indicating correctly that this person indeed does not have the anti-bodies is  0.9998936848819903 .\n"
          ],
          "name": "stdout"
        }
      ]
    },
    {
      "cell_type": "markdown",
      "metadata": {
        "id": "nDtBlNiplgAw",
        "colab_type": "text"
      },
      "source": [
        "**Task 2**: Using the same testing kit, how much higher would the fraction of\n",
        "people with the antibodies have to be in order to give a >50% chance of the kit\n",
        "giving a positive result? It might be nice to make a graph of this."
      ]
    },
    {
      "cell_type": "markdown",
      "metadata": {
        "id": "Wr0lXSICen29",
        "colab_type": "text"
      },
      "source": [
        "Graph will be made in 2 ways: firstly, using as little hand calculations as possible. That way k (percent of population with antbodies) will be discretely increasing in small amounts, and the accuracy od the result k will depend on how small these increasing amounts are (the smaller the better).The second approach consisted of a small hand calculation to obtain the expression for a function \"test turning out positive\" which explicitly depends on k. This is slightly easier to code, and the code runs a bit quicker, which is noticable on slow laptops. It is also easier to read off what the value of k must be for test turning out positive in 50% of cases."
      ]
    },
    {
      "cell_type": "code",
      "metadata": {
        "id": "EXoobsvhMz2q",
        "colab_type": "code",
        "colab": {}
      },
      "source": [
        "#IMPORTS\n",
        "import matplotlib.pyplot as plt  #import library\n",
        "import numpy as np\n",
        "\n",
        "#make a function that draws graphs\n",
        "def simple_graph(independent_variable, dependent_variable):\n",
        "  plt.plot(k_array, p_t_1) #make graph\n",
        "  plt.xlabel('percent of people with antibodies')  #name axis\n",
        "  plt.ylabel('percent of people tested positive') #name axis \n",
        "  plt.grid() #add grid so it's easier to read off the results\n",
        "  plt.title('Percent of people testing positive depending on the percent of people having antibodies') #give title\n",
        "  plt.show() #show graph"
      ],
      "execution_count": 0,
      "outputs": []
    },
    {
      "cell_type": "code",
      "metadata": {
        "id": "doYs5rnbPyWb",
        "colab_type": "code",
        "outputId": "2545652e-64a5-4053-af76-ea4d9434b91e",
        "colab": {
          "base_uri": "https://localhost:8080/",
          "height": 313
        }
      },
      "source": [
        "#IMPLICIT WAY OF MAKING GRAPH (as little hand calculations as possible)\n",
        "#create arrays of the function p_t_1 (test turning out positive) and the variable k (corresponds to the percent of people with antibodies)\n",
        "p_t_1 = []\n",
        "k_array = []\n",
        "count = 0\n",
        "for k in np.arange(1, 100, 0.005): #k is slowly increasing \n",
        "  k_array.append(k)\n",
        "  p_1=p*k #true positive (the person really has antibodies; variable)\n",
        "  n_1=1-k*p #true negative (the person really does not have antibodies; obtained based on p_1 expression in terms of k)\n",
        "  p_t_1.append((p_1*a + n_1*(1-b))*100) #recalculate positive results, with k free parameter\n",
        "  if 50<p_t_1[count]<50.005:\n",
        "    print(\"When at least about \", round(k, 2), \" percent of population will have antibodies, test will give positive result in 50% of cases.\")\n",
        "  count+=1\n",
        "simple_graph(k_array, p_t_1)"
      ],
      "execution_count": 0,
      "outputs": [
        {
          "output_type": "stream",
          "text": [
            "When at least about  47.87  percent of population will have antibodies, test will give positive result in 50% of cases.\n"
          ],
          "name": "stdout"
        },
        {
          "output_type": "display_data",
          "data": {
            "image/png": "[encoded data removed]",
            "text/plain": [
              "<Figure size 432x288 with 1 Axes>"
            ]
          },
          "metadata": {
            "tags": [],
            "needs_background": "light"
          }
        }
      ]
    },
    {
      "cell_type": "code",
      "metadata": {
        "id": "svynMlCqP2IY",
        "colab_type": "code",
        "outputId": "e9f57260-d985-4927-d71c-97340eb105bc",
        "colab": {
          "base_uri": "https://localhost:8080/",
          "height": 313
        }
      },
      "source": [
        "#EXPLICIT WAY OF MAKING GRAPH (small calculation by hand, handy outcomes; y=p_t_1)\n",
        "y = []\n",
        "for k in k_array:\n",
        "  y.append(0.0094*k+0.05)\n",
        "simple_graph(k_array, y)\n",
        "\n",
        "#Calculating k explicitly\n",
        "k=round(((0.5-0.05)/0.0094), 2)\n",
        "print(\"When \", k, \"% of population will have antibodies, the test will turn out to be positive in 1/2 cases.\")"
      ],
      "execution_count": 0,
      "outputs": [
        {
          "output_type": "display_data",
          "data": {
            "image/png": "[encoded data removed]",
            "text/plain": [
              "<Figure size 432x288 with 1 Axes>"
            ]
          },
          "metadata": {
            "tags": [],
            "needs_background": "light"
          }
        },
        {
          "output_type": "stream",
          "text": [
            "When  47.87 % of population will have antibodies, the test will turn out to be positive in 1/2 cases.\n"
          ],
          "name": "stdout"
        }
      ]
    },
    {
      "cell_type": "markdown",
      "metadata": {
        "id": "4EhPL9BMla1m",
        "colab_type": "text"
      },
      "source": [
        "###Interpretation of results: Task 1\n",
        "\n",
        "The results show that the probability of a positive test indicating correctly that a person does indeed have the anti-bodies is just below 17%. From this we can conclude that the positive outcomes of the test are not to be blindly trusted (most probably that person does not have antibodies, despite the test showing otherwise). On the other hand, if the results of the test are negative, we can be very sure that they are correct. Within the precision of the data given in the task, we can even be sure with 100% certainty that if the results of the test be negative, the person does not have antibodies. \n",
        "\n",
        "If this was a real-world situaton, I would recommend that in case of a test coming out as positive, multiple (or alternative) tests be repeated/performed on that person, as the positive result is clearly not a good indicator of the presence of antibodies. Just about 1 in 6 people testing positive would actually have antibodies. If I had limited resources (as one does in real-life) I would on the other hand not repeat tests on cases that turned out negative, as those results clearly are much more accurate."
      ]
    },
    {
      "cell_type": "markdown",
      "metadata": {
        "id": "tP-Sj15d-UiD",
        "colab_type": "text"
      },
      "source": [
        "###Interpretation of Part 2\n",
        "\n",
        "weciqjdljqlejqli"
      ]
    },
    {
      "cell_type": "markdown",
      "metadata": {
        "id": "nGQbxU2sNY_G",
        "colab_type": "text"
      },
      "source": [
        "# Part 2: Probability Distributions"
      ]
    },
    {
      "cell_type": "markdown",
      "metadata": {
        "id": "stZl3Rk_NaSl",
        "colab_type": "text"
      },
      "source": [
        "Task 1: Make a script to generate a discrete distribution, with values in the integer\n",
        "bins. The script should be able to generate a Gaussian, Bionomial, Poisson and an\n",
        "Exponential distribution – it should always use the same range of values to do so\n",
        "(i.e. the x-axis should run from 0 to 10 for example).\n",
        "\n",
        "Task 2: Choose one of the distributions from the task above and make it into a\n",
        "continuous distribution. You may have to bin it into a histogram to be able to plot\n",
        "it."
      ]
    },
    {
      "cell_type": "code",
      "metadata": {
        "id": "79qSQy5bxtx-",
        "colab_type": "code",
        "outputId": "54cd7252-4a89-4c92-c69a-5613bb871f24",
        "colab": {
          "base_uri": "https://localhost:8080/",
          "height": 52
        }
      },
      "source": [
        "# IMPORT STATEMENTS FOR LIBRARIES\n",
        "\n",
        "%matplotlib inline\n",
        "# import matplotlib\n",
        "import matplotlib.pyplot as plt\n",
        "# for latex equations\n",
        "from IPython.display import Math, Latex\n",
        "# for displaying images\n",
        "from IPython.core.display import Image\n",
        "# import seaborn\n",
        "import seaborn as sns\n",
        "# settings for seaborn plotting style\n",
        "sns.set(color_codes=True)\n",
        "# settings for seaborn plot sizes\n",
        "sns.set(rc={'figure.figsize':(5,5)})\n",
        "sns.set_style(\"white\")"
      ],
      "execution_count": 0,
      "outputs": [
        {
          "output_type": "stream",
          "text": [
            "/usr/local/lib/python3.6/dist-packages/statsmodels/tools/_testing.py:19: FutureWarning: pandas.util.testing is deprecated. Use the functions in the public API at pandas.testing instead.\n",
            "  import pandas.util.testing as tm\n"
          ],
          "name": "stderr"
        }
      ]
    },
    {
      "cell_type": "code",
      "metadata": {
        "id": "3KARnZogyw7x",
        "colab_type": "code",
        "colab": {}
      },
      "source": [
        "#IMPORT STATEMENTS FOR DIFFERENT DISTRIBUTIONS\n",
        "\n",
        "mysize=1000\n",
        "\n",
        "from scipy.stats import norm\n",
        "data_normal = norm.rvs(size=mysize,loc=5,scale=1)\n",
        "\n",
        "from scipy.stats import expon\n",
        "data_expon = expon.rvs(scale=1,loc=0,size=mysize)\n",
        "\n",
        "from scipy.stats import poisson\n",
        "data_poisson = poisson.rvs(mu=3.5, size=mysize)\n",
        "\n",
        "from scipy.stats import binom\n",
        "data_binom = binom.rvs(n=10,p=0.48,size=mysize)"
      ],
      "execution_count": 0,
      "outputs": []
    },
    {
      "cell_type": "code",
      "metadata": {
        "id": "OQjOb8Cg2HTY",
        "colab_type": "code",
        "colab": {}
      },
      "source": [
        "#DEFINING FUNCTIONS FOR DISCRETE AND CONTINUOUS DISTRIBUTIONS\n",
        "\n",
        "#discrete distribution\n",
        "def plot_graph(which_data, x_axis): #for x_axis write the type of distribution as a string\n",
        "  ax = sns.distplot(which_data,\n",
        "                  bins=10,\n",
        "                  norm_hist=True,\n",
        "                  kde=False,\n",
        "                  color='skyblue',\n",
        "                  hist_kws={\"linewidth\": 15,'alpha':1})\n",
        "  ax.set(xlabel=x_axis, ylabel=\"probability\", xlim=(0,10))\n",
        "\n",
        "#continuous distribution\n",
        "def plot_continuous(which_data, x_axis): #for x_axis write the type of distribution as a string\n",
        "  bx = sns.distplot(which_data,\n",
        "                bins=10,\n",
        "                hist=False,\n",
        "                kde=True,\n",
        "                color='skyblue',\n",
        "                hist_kws={\"linewidth\": 15,'alpha':1})\n",
        "  bx.set(xlabel=x_axis, ylabel='probability', xlim=(0,10))\n",
        "\n",
        "\n",
        "  #print them together like in machine learning task"
      ],
      "execution_count": 0,
      "outputs": []
    },
    {
      "cell_type": "markdown",
      "metadata": {
        "id": "QZAbVkjajelB",
        "colab_type": "text"
      },
      "source": [
        "Below normalised graphs for the gaussian, exponential, poisson and binomial distributions will be generated respectively. For each type of distribution, firstly dicrete and secondly continuous graph will be plotted."
      ]
    },
    {
      "cell_type": "code",
      "metadata": {
        "id": "qcbMceZ03LFt",
        "colab_type": "code",
        "outputId": "bdf208f0-d1dd-4703-9130-275603e162c3",
        "colab": {
          "base_uri": "https://localhost:8080/",
          "height": 339
        }
      },
      "source": [
        "plot_graph(data_normal, \"normal distribution\")"
      ],
      "execution_count": 0,
      "outputs": [
        {
          "output_type": "display_data",
          "data": {
            "image/png": "[encoded data removed]",
            "text/plain": [
              "<Figure size 360x360 with 1 Axes>"
            ]
          },
          "metadata": {
            "tags": []
          }
        }
      ]
    },
    {
      "cell_type": "code",
      "metadata": {
        "id": "H39ABhjJh4mL",
        "colab_type": "code",
        "outputId": "84ed5c9e-efac-4516-8948-d0bc4175b7a7",
        "colab": {
          "base_uri": "https://localhost:8080/",
          "height": 339
        }
      },
      "source": [
        "plot_continuous(data_normal, \"normal distribution\")"
      ],
      "execution_count": 0,
      "outputs": [
        {
          "output_type": "display_data",
          "data": {
            "image/png": "[encoded data removed]",
            "text/plain": [
              "<Figure size 360x360 with 1 Axes>"
            ]
          },
          "metadata": {
            "tags": []
          }
        }
      ]
    },
    {
      "cell_type": "code",
      "metadata": {
        "id": "wsdg68iq3dxL",
        "colab_type": "code",
        "outputId": "7d315606-329b-4893-ec65-8c08e50708cb",
        "colab": {
          "base_uri": "https://localhost:8080/",
          "height": 339
        }
      },
      "source": [
        "plot_graph(data_expon, \"exponential distribution\")"
      ],
      "execution_count": 0,
      "outputs": [
        {
          "output_type": "display_data",
          "data": {
            "image/png": "[encoded data removed]",
            "text/plain": [
              "<Figure size 360x360 with 1 Axes>"
            ]
          },
          "metadata": {
            "tags": []
          }
        }
      ]
    },
    {
      "cell_type": "code",
      "metadata": {
        "id": "iVBWOD50h_SO",
        "colab_type": "code",
        "outputId": "2979331d-2706-4864-a6cc-fd7315cb1159",
        "colab": {
          "base_uri": "https://localhost:8080/",
          "height": 339
        }
      },
      "source": [
        "plot_continuous(data_expon, \"exponential distribution\")"
      ],
      "execution_count": 0,
      "outputs": [
        {
          "output_type": "display_data",
          "data": {
            "image/png": "[encoded data removed]",
            "text/plain": [
              "<Figure size 360x360 with 1 Axes>"
            ]
          },
          "metadata": {
            "tags": []
          }
        }
      ]
    },
    {
      "cell_type": "code",
      "metadata": {
        "id": "OCTM_c3B3vva",
        "colab_type": "code",
        "outputId": "eaa395a2-d7ed-4739-f4ef-810fa88d701a",
        "colab": {
          "base_uri": "https://localhost:8080/",
          "height": 339
        }
      },
      "source": [
        "plot_graph(data_poisson, \"poisson distribution\")"
      ],
      "execution_count": 0,
      "outputs": [
        {
          "output_type": "display_data",
          "data": {
            "image/png": "[encoded data removed]",
            "text/plain": [
              "<Figure size 360x360 with 1 Axes>"
            ]
          },
          "metadata": {
            "tags": []
          }
        }
      ]
    },
    {
      "cell_type": "code",
      "metadata": {
        "id": "U32HDAQUiGgx",
        "colab_type": "code",
        "outputId": "e9ae9057-0159-47a4-ce02-84936ab1dd8c",
        "colab": {
          "base_uri": "https://localhost:8080/",
          "height": 339
        }
      },
      "source": [
        "plot_continuous(data_poisson, \"poisson distribution\")"
      ],
      "execution_count": 0,
      "outputs": [
        {
          "output_type": "display_data",
          "data": {
            "image/png": "[encoded data removed]",
            "text/plain": [
              "<Figure size 360x360 with 1 Axes>"
            ]
          },
          "metadata": {
            "tags": []
          }
        }
      ]
    },
    {
      "cell_type": "code",
      "metadata": {
        "id": "i4xNVWXm4A1T",
        "colab_type": "code",
        "outputId": "2d5a18d0-f80c-4c3a-9329-dd6ae3202280",
        "colab": {
          "base_uri": "https://localhost:8080/",
          "height": 340
        }
      },
      "source": [
        "plot_graph(data_binom, \"binomial distribution\") "
      ],
      "execution_count": 0,
      "outputs": [
        {
          "output_type": "display_data",
          "data": {
            "image/png": "[encoded data removed]",
            "text/plain": [
              "<Figure size 360x360 with 1 Axes>"
            ]
          },
          "metadata": {
            "tags": []
          }
        }
      ]
    },
    {
      "cell_type": "code",
      "metadata": {
        "id": "epCinCH_iNRT",
        "colab_type": "code",
        "outputId": "35c8354c-4589-410a-8719-d01f3af55297",
        "colab": {
          "base_uri": "https://localhost:8080/",
          "height": 339
        }
      },
      "source": [
        "plot_continuous(data_binom, \"binomial distribution\")"
      ],
      "execution_count": 0,
      "outputs": [
        {
          "output_type": "display_data",
          "data": {
            "image/png": "[encoded data removed]",
            "text/plain": [
              "<Figure size 360x360 with 1 Axes>"
            ]
          },
          "metadata": {
            "tags": []
          }
        }
      ]
    },
    {
      "cell_type": "markdown",
      "metadata": {
        "id": "7uf_WmSu3KTG",
        "colab_type": "text"
      },
      "source": [
        "Follow up task: Modify your script to accept two values and return the sum of the\n",
        "probability distribution function between those values (e.g. so I could ask for the\n",
        "total of the exponential distribution between 0 and 2 for example)"
      ]
    },
    {
      "cell_type": "code",
      "metadata": {
        "id": "Qjv5pE6M61PI",
        "colab_type": "code",
        "outputId": "9d70d1da-f07b-4ac1-9101-e41cbfbe35f1",
        "colab": {
          "base_uri": "https://localhost:8080/",
          "height": 444
        }
      },
      "source": [
        "def discrete_integral(give_your_distribution_name_string, data_type, lower_boundary, higher_boundary):\n",
        "  hist,bins = np.histogram(data_type,bins = [lower_boundary, higher_boundary])\n",
        "  y=sum(hist)/mysize #what portion of events take place in this region\n",
        "  \n",
        "  print(\"Chosen distribution: \", give_your_distribution_name_string)\n",
        "  print(\"Chosen range:  \", bins) \n",
        "  print(\"Number of events in that chosen range: \", hist) \n",
        "  print(\"Probability of finding an event in your chosen range is: \", y)\n",
        "  print(\"\"\"\n",
        "  \"\"\")\n",
        "\n",
        "\n",
        "#YOU ARE WELCOME TO MODIFY BOUNDARIES AT YOUR WILL (if you go outside range [0,10] probability will be 0)\n",
        "discrete_integral(\"Normal Distribution\", data_normal, 0, 10)\n",
        "discrete_integral(\"Exponential Distribution\", data_expon, 0, 10)\n",
        "discrete_integral(\"Binomial Distribution\", data_binom, 0, 10)\n",
        "discrete_integral(\"Poisson Distribution\", data_poisson, 0, 10)"
      ],
      "execution_count": 0,
      "outputs": [
        {
          "output_type": "stream",
          "text": [
            "Chosen distribution:  Normal Distribution\n",
            "Chosen range:   [ 0 10]\n",
            "Number of events in that chosen range:  [1000]\n",
            "Probability of finding an event in your chosen range is:  1.0\n",
            "\n",
            "  \n",
            "Chosen distribution:  Exponential Distribution\n",
            "Chosen range:   [ 0 10]\n",
            "Number of events in that chosen range:  [1000]\n",
            "Probability of finding an event in your chosen range is:  1.0\n",
            "\n",
            "  \n",
            "Chosen distribution:  Binomial Distribution\n",
            "Chosen range:   [ 0 10]\n",
            "Number of events in that chosen range:  [1000]\n",
            "Probability of finding an event in your chosen range is:  1.0\n",
            "\n",
            "  \n",
            "Chosen distribution:  Poisson Distribution\n",
            "Chosen range:   [ 0 10]\n",
            "Number of events in that chosen range:  [999]\n",
            "Probability of finding an event in your chosen range is:  0.999\n",
            "\n",
            "  \n"
          ],
          "name": "stdout"
        }
      ]
    },
    {
      "cell_type": "markdown",
      "metadata": {
        "id": "a4662mlF-i7Y",
        "colab_type": "text"
      },
      "source": [
        "###Interpretation \n",
        "\n",
        "hwekdqiil"
      ]
    },
    {
      "cell_type": "markdown",
      "metadata": {
        "id": "7L-iJpWiSPQ-",
        "colab_type": "text"
      },
      "source": [
        "#Part 3: Expectation values\n"
      ]
    },
    {
      "cell_type": "markdown",
      "metadata": {
        "id": "3W-n7hz_UR_A",
        "colab_type": "text"
      },
      "source": [
        "Choose one of your discrete distributions and one of your continuous\n",
        "distributions from the previous task. Write a small script to take the data from the\n",
        "histogram and turn it into an expectation value."
      ]
    },
    {
      "cell_type": "code",
      "metadata": {
        "id": "71zHkqdxozyI",
        "colab_type": "code",
        "colab": {}
      },
      "source": [
        "\"\"\"\n",
        "Define functions that will return expectation value of a distribution based on discrete graph (dx=1 bin) and on a continuous graph (average) respectively.\n",
        "The latter will naturally introduce less error (an additional error occurs at the \"discrete case\" due to large bins).\n",
        "\n",
        "\"\"\"\n",
        "\n",
        "#DISCRETE DISTRIBUTIONS\n",
        "\n",
        "def discrete_expectation(name_your_distribution_string, data_type, total_number_of_events):\n",
        "  hist,bins = np.histogram(data_type, bins=[0,1,2,3,4,5,6,7,8,9,10]) #define boundaries of bins and get the number of events in each bin. Uncomment the following 2 lines to see this info explicitly.\n",
        "  #print(\"bins have the following boundaries: \",bins) \n",
        "  #print(\"number of events in each bin: \", hist)\n",
        "\n",
        "  #make number of events a list, where the first element means the number of events in bin 1, the second number of events in bin 2...\n",
        "  events=[]\n",
        "  for i in hist:\n",
        "    events.append(i) \n",
        "\n",
        "  #calculate expectation value by multiplying the number of bin and the probability of finding an event in that bin (number of events in that bin/total number of events) and sum everything\n",
        "  y=[] \n",
        "  for i in range(9):\n",
        "    y.append(events[i]*(i+1)/total_number_of_events)\n",
        "  expectation=sum(y)\n",
        "  print(\"Expectation value for a discrete \", name_your_distribution_string , \" : \", round(expectation,2))\n",
        "\n",
        "#CONTINUOUS DISTRIBUTIONS\n",
        "\n",
        "#calculate expectation value based on continuous graph, which is as far as the task is concerned simply the average of all events (graph is based on mysize number of discrete events)\n",
        "def simple_average(name_your_distribution_string, data_type):\n",
        "  y=sum(data_type)/len(data_type)\n",
        "  print(\"Expectation value for a continuous \", name_your_distribution_string, \" : \", y)"
      ],
      "execution_count": 0,
      "outputs": []
    },
    {
      "cell_type": "code",
      "metadata": {
        "id": "b6EASoPwogib",
        "colab_type": "code",
        "outputId": "7e963e8f-bd16-4fbf-c333-62c3a99380f5",
        "colab": {
          "base_uri": "https://localhost:8080/",
          "height": 159
        }
      },
      "source": [
        "\"\"\"\n",
        "Use the functions from the cell above to generate expectation values for all cases for discrete and continuous distributions.\n",
        "\n",
        "\"\"\"\n",
        "\n",
        "discrete_expectation(\"exponential distribution\", data_expon, mysize)\n",
        "discrete_expectation(\"normal distribution\", data_normal, mysize)\n",
        "discrete_expectation(\"binomial distribution\", data_binom, mysize)\n",
        "discrete_expectation(\"poisson distribution\", data_poisson, mysize)\n",
        "\n",
        "simple_average(\"exponential distribution\", data_expon)\n",
        "simple_average(\"normal distribution\", data_normal)\n",
        "simple_average(\"binomial distribution\", data_binom)\n",
        "simple_average(\"poisson distribution\", data_poisson)\n"
      ],
      "execution_count": 0,
      "outputs": [
        {
          "output_type": "stream",
          "text": [
            "Expectation value for a discrete  exponential distribution  :  1.58\n",
            "Expectation value for a discrete  normal distribution  :  5.51\n",
            "Expectation value for a discrete  binomial distribution  :  5.76\n",
            "Expectation value for a discrete  poisson distribution  :  4.48\n",
            "Expectation value for a continuous  exponential distribution  :  0.9826551580650545\n",
            "Expectation value for a continuous  normal distribution  :  5.0114157818708405\n",
            "Expectation value for a continuous  binomial distribution  :  4.842\n",
            "Expectation value for a continuous  poisson distribution  :  3.553\n"
          ],
          "name": "stdout"
        }
      ]
    },
    {
      "cell_type": "code",
      "metadata": {
        "id": "v7nXvQJyprkV",
        "colab_type": "code",
        "outputId": "cf19a374-0762-4709-e551-0698e619d47c",
        "colab": {
          "base_uri": "https://localhost:8080/",
          "height": 124
        }
      },
      "source": [
        "\"\"\"\n",
        "just a quick check whether my code makes sense\n",
        "\n",
        "\"\"\"\n",
        "mydata=[0,1,2,2,3,3,3,4,4,4,4, 5,5,5,5,5, 6,6,6,6,7,7,7,8,8,9,10]\n",
        "discrete_expectation(\"check function\", mydata, len(mydata))\n",
        "simple_average(\"check function\", mydata)\n",
        "\n",
        "mydata=[0,1,2,2,3,3,3,4,4,4,4, 6,6,6,6,7,7,7,8,8,9,10]\n",
        "discrete_expectation(\"check function 2\", mydata, len(mydata))\n",
        "simple_average(\"check function 2\", mydata)\n",
        "\n",
        "mydata=[0,5,10]\n",
        "discrete_expectation(\"check function 3\", mydata, len(mydata))\n",
        "simple_average(\"check function 3\", mydata)\n",
        "\n"
      ],
      "execution_count": 0,
      "outputs": [
        {
          "output_type": "stream",
          "text": [
            "Expectation value for a discrete  check function  :  5.22\n",
            "Expectation value for a continuous  check function  :  5.0\n",
            "Expectation value for a discrete  check function 2  :  5.05\n",
            "Expectation value for a continuous  check function 2  :  5.0\n",
            "Expectation value for a discrete  check function 3  :  2.33\n",
            "Expectation value for a continuous  check function 3  :  5.0\n"
          ],
          "name": "stdout"
        }
      ]
    },
    {
      "cell_type": "markdown",
      "metadata": {
        "id": "yOVZtKKW9wwE",
        "colab_type": "text"
      },
      "source": [
        "###Interpretation of task 1\n",
        "\n",
        "blablabalhssxdilcuilvuieruifheruiohe"
      ]
    },
    {
      "cell_type": "markdown",
      "metadata": {
        "id": "XlEGJpFWUSxt",
        "colab_type": "text"
      },
      "source": [
        "Expectation values are also useful in understanding how game\n",
        "shows work. Make a small game, which simulates the TV show deal or no deal.\n",
        "There are 20 boxes (numbered 1-20). The contestant chooses one box to keep and\n",
        "then opens 3 at random and gets to know the values of these boxes. What is the\n",
        "expected value of the prize they go home with? They have 1 box out of 17\n",
        "remaining. Make it simple – the three random boxes don’t have to be chosen by the\n",
        "user – simply chosen at random from the possibilities."
      ]
    },
    {
      "cell_type": "code",
      "metadata": {
        "id": "kk_cjdJuUjie",
        "colab_type": "code",
        "colab": {}
      },
      "source": [
        "#to see intermediate steps of the game, uncomment everything\n",
        "#please read the illuminating output; 'expectation value' is really not the most likely value, but purely an average. Naming is very misleading.\n",
        "\n",
        "import random\n",
        "import statistics\n",
        "boxes=[1,2,3,4,5,6,7,8,9,10,11,12,13,14,15,16,17,18,19,20]\n",
        "#print(boxes)\n",
        "original_box=random.choice(boxes)\n",
        "#print(original_box)\n",
        "boxes.remove(original_box)\n",
        "#print(boxes)\n",
        "box_1=random.choice(boxes)\n",
        "#print(box_1)\n",
        "boxes.remove(box_1)\n",
        "#print(boxes)\n",
        "box_2=random.choice(boxes)\n",
        "#print(box_2)\n",
        "boxes.remove(box_2)\n",
        "#print(boxes)\n",
        "box_3=random.choice(boxes)\n",
        "#print(box_3)\n",
        "boxes.remove(box_3)\n",
        "#print(boxes)\n",
        "boxes.append(original_box)\n",
        "#print(boxes)\n",
        "def expectation_value(decimal):\n",
        "  y=statistics.mean(boxes) #in this particular case expectation value equals the mean (discrete dataset)\n",
        "  return round(y, decimal)\n",
        "#print(expectation_value(2))\n",
        "print(\"God knows that the contestant put aside box with value \", original_box, \n",
        "      \". Then, as the whole show knows, the contestant picked 3 boxes with values \", \n",
        "      box_1, \", \", box_2, \" and \", box_3,  \" respectively. The expectation value of the 17 unopened boxes is \", \n",
        "      expectation_value(2), \". However, \", expectation_value(0), \n",
        "      \" is not the most likely value that's hidden in the unopened box, but purely an average of the remaining boxes.\" \n",
        "      \"The numbers close to the mean have in this distribution really nothing to do with how likely one is to pick such a value.\"\n",
        "      \" Naming 'expectation value' is unfortunately very misleding.\")"
      ],
      "execution_count": 0,
      "outputs": []
    },
    {
      "cell_type": "markdown",
      "metadata": {
        "id": "ZJvRLHAY956J",
        "colab_type": "text"
      },
      "source": [
        "###Interpretation of task 2\n",
        "\n",
        "baksdlwieufqeuifqepfuipquie"
      ]
    },
    {
      "cell_type": "markdown",
      "metadata": {
        "id": "op19Y0icUljH",
        "colab_type": "text"
      },
      "source": [
        "#Part 3: Messy real world"
      ]
    },
    {
      "cell_type": "markdown",
      "metadata": {
        "id": "e5zh78oCUrRU",
        "colab_type": "text"
      },
      "source": [
        "Take your script which outputs your distribution and have it print the expectation\n",
        "value, the mean value, the variance, skewness and kurtosis. "
      ]
    },
    {
      "cell_type": "code",
      "metadata": {
        "id": "NtzKxyWAU6Mf",
        "colab_type": "code",
        "colab": {}
      },
      "source": [
        "import scipy.stats\n",
        "from scipy.stats import norm, poisson, binom, expon, skew, kurtosis\n",
        "\n",
        "#good programmer is a lazy programmer\n",
        "#use statistics package to get information about your distributions\n",
        "def LazyRealWorld(name_your_distribution_string, data_type):\n",
        "\n",
        "  print(name_your_distribution_string)\n",
        "  print(\"mean: {}\" .format(np.mean(data_type)))\n",
        "  print(\"variance: {}\" .format(np.var(data_type)))\n",
        "  print(\"skewness: {}\" .format(skew(data_type)))\n",
        "  print(\"kurtosis: {}\" .format(kurtosis(data_type)))\n",
        "  print(\"\"\"\n",
        "  \"\"\")"
      ],
      "execution_count": 0,
      "outputs": []
    },
    {
      "cell_type": "code",
      "metadata": {
        "id": "mrzBWj6M2Kos",
        "colab_type": "code",
        "outputId": "2c5af458-1df2-4dfa-e1fc-1c716391ff1c",
        "colab": {
          "base_uri": "https://localhost:8080/",
          "height": 515
        }
      },
      "source": [
        "LazyRealWorld(\"NORMAL DISTRIBUTION\", data_normal)\n",
        "LazyRealWorld(\"POISSON DISTRIBUTION\", data_poisson)\n",
        "LazyRealWorld(\"EXPONENTIAL DISTRIBUTION\", data_expon)\n",
        "LazyRealWorld(\"BINOMIAL DISTRIBUTION\", data_binom)"
      ],
      "execution_count": 0,
      "outputs": [
        {
          "output_type": "stream",
          "text": [
            "NORMAL DISTRIBUTION\n",
            "mean: 5.011415781870847\n",
            "variance: 0.9707359467415538\n",
            "skewness: -0.061832418602769584\n",
            "kurtosis: 0.06843162858828578\n",
            "\n",
            "  \n",
            "POISSON DISTRIBUTION\n",
            "mean: 3.553\n",
            "variance: 3.365191\n",
            "skewness: 0.5574098091513134\n",
            "kurtosis: 0.051017145758665894\n",
            "\n",
            "  \n",
            "EXPONENTIAL DISTRIBUTION\n",
            "mean: 0.9826551580650551\n",
            "variance: 0.9658474969907652\n",
            "skewness: 1.795241525460176\n",
            "kurtosis: 4.227714622870178\n",
            "\n",
            "  \n",
            "BINOMIAL DISTRIBUTION\n",
            "mean: 4.842\n",
            "variance: 2.439036\n",
            "skewness: -0.01101366376823699\n",
            "kurtosis: -0.23116146507356117\n",
            "\n",
            "  \n"
          ],
          "name": "stdout"
        }
      ]
    },
    {
      "cell_type": "markdown",
      "metadata": {
        "id": "Tpido32I-HQU",
        "colab_type": "text"
      },
      "source": [
        "###Meaning of calculated quantities\n",
        "\n",
        "Mean is the same as average which is the same as expectation value, if one does infinetely many measurements. Infinetely many measurements of the mean would give you the expectation value, as is nicely illustrated [here](https://math.stackexchange.com/a/1355657/735657).\n",
        "\n",
        "Standard deviation is a measure of how widely spread is the distribution. The square of a standard deviation is called variance. \n",
        "\n",
        "Skewness is a measure of asymmetry of the distribution (for example, gaussian distribution is very symetrical and hence has very low skewness, in ideal case zero, while exponential distribution is very asymmetrical, and wull hence have large skewness; it will also be a positive number since the bigger part is to the left of the graph). \n",
        "\n",
        "Kurtosis is a measure of a \"tailedness\" of the distribution. For example, if the distribution has a more narrow peak than the gaussian, kurtosis will be positive, and if the distribution has a more wide&lower peak than the gaussian, kurtosis will be negative."
      ]
    }
  ]
}