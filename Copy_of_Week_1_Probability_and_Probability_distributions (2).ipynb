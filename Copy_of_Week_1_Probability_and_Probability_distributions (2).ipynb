{
  "nbformat": 4,
  "nbformat_minor": 0,
  "metadata": {
    "colab": {
      "name": "Copy of Week_1: Probability and Probability distributions.ipynb",
      "provenance": [],
      "collapsed_sections": []
    },
    "kernelspec": {
      "name": "python3",
      "display_name": "Python 3"
    }
  },
  "cells": [
    {
      "cell_type": "markdown",
      "metadata": {
        "id": "gttW7pNi9Bqq",
        "colab_type": "text"
      },
      "source": [
        "\n",
        "#**PROBABILITY AND PROBABILITY DISTRIBUTIONS:**\n",
        "\n",
        "##Notebook of Week 1 of PRA3500: Statistics/Data Analysis for Physicists"
      ]
    },
    {
      "cell_type": "markdown",
      "metadata": {
        "id": "D_6fCb-Zky6d",
        "colab_type": "text"
      },
      "source": [
        "#Part 1: Probability Relations\n",
        "\n",
        "Instructions:\n",
        "\n",
        "\"*Consider a test which looks for COVID-19 antibodies in the\n",
        "general population. Let’s assume that 1% of our general population has these antibodies. If we can make a test which is 99% sensitive to the antibodies (i.e. we can\n",
        "tell 99% of cases as true positives, 1% as false negatives) and give 95% true\n",
        "negative results (5% are accidentally given a positive result) – it looks like we might be doing pretty well.*\""
      ]
    },
    {
      "cell_type": "markdown",
      "metadata": {
        "id": "-Ov6cxu4lCQ1",
        "colab_type": "text"
      },
      "source": [
        "**Task 1**: Use your programming tool of choice and make a small script which accepts\n",
        "these data as inputs and returns the probability of a positive test indicating\n",
        "correctly that this person does indeed have the anti-bodies. "
      ]
    },
    {
      "cell_type": "code",
      "metadata": {
        "id": "fyJ-3jk3lS8G",
        "colab_type": "code",
        "outputId": "eb53b43b-5b7d-4abb-f253-7519e1ec19b7",
        "colab": {
          "base_uri": "https://localhost:8080/",
          "height": 72
        }
      },
      "source": [
        "#GIVEN INFORMATION\n",
        "p=0.01 #true positive (the person really has antibodies)\n",
        "n=0.99 #true negative (the person really does not have antibodies)\n",
        "a=0.99 #if a person has antibodies, the probability that it will also test as pozitive \n",
        "b=0.95 #if it does not have antibodies, the probability that the person will also test negative\n",
        "\n",
        "#CALCULATIONS\n",
        "p_t=p*a + n*(1-b) #test result positive (\"a\" amount of people with antibodies (p) and \"(1-b)\"\" amount of people without antibodies (n) will test positive)\n",
        "n_t=n*b + p*(1-a) #test result negative (\"b\" amount of people without antibodies (n) and \"(1-a)\"\" amount of people with antibodies (p) will test negative)\n",
        "\n",
        "#Check (error if #calculations are wrong)\n",
        "def unity(): \n",
        "  u=p_t+n_t #should be 1\n",
        "  if u!=1:\n",
        "    return(print(\"Error in calculations. Sum of positive and negative outcomes of the test does not equal the total number of tests taken.\")) \n",
        "  if u==1:\n",
        "    pass\n",
        "unity()\n",
        "\n",
        "#RESULTS\n",
        "#probability of a positive test indicating correctly that this person does indeed has the anti-bodies (a_rev)\n",
        "a_rev=a*p/p_t #Bayes' theorem (explanation can be found in chapter 2 (equation 2.4) of Bohm's Introduction to Statistics and Data Analysis for Physicists)\n",
        "#probability of a negative test indicating correctly that this person does indeed does not have the anti-bodies (b_rev)\n",
        "b_rev=b*n/n_t #Bayes' theorem\n",
        "\n",
        "#PRINT\n",
        "print(\"The probability of a positive test indicating correctly that this person does indeed has the anti-bodies is \", a_rev, \".\")\n",
        "print(\"The probability of a negative test indicating correctly that this person indeed does not have the anti-bodies is \", b_rev, \".\")"
      ],
      "execution_count": 51,
      "outputs": [
        {
          "output_type": "stream",
          "text": [
            "The probability of a positive test indicating correctly that this person does indeed has the anti-bodies is  0.16666666666666655 .\n",
            "The probability of a negative test indicating correctly that this person indeed does not have the anti-bodies is  0.9998936848819903 .\n"
          ],
          "name": "stdout"
        }
      ]
    },
    {
      "cell_type": "markdown",
      "metadata": {
        "id": "nDtBlNiplgAw",
        "colab_type": "text"
      },
      "source": [
        "**Task 2**: Using the same testing kit, how much higher would the fraction of\n",
        "people with the antibodies have to be in order to give a >50% chance of the kit\n",
        "giving a positive result? It might be nice to make a graph of this."
      ]
    },
    {
      "cell_type": "markdown",
      "metadata": {
        "id": "Wr0lXSICen29",
        "colab_type": "text"
      },
      "source": [
        "Graph will be made in 2 ways: firstly, using as little hand calculations as possible. That way k (percent of population with antbodies) will be discretely increasing in small amounts, and the accuracy od the result k will depend on how small these increasing amounts are (the smaller the better).The second approach consisted of a small hand calculation to obtain the expression for a function \"test turning out positive\" which explicitly depends on k. This is slightly easier to code, and the code runs a bit quicker, which is noticable on slow laptops. It is also easier to read off what the value of k must be for test turning out positive in 50% of cases."
      ]
    },
    {
      "cell_type": "code",
      "metadata": {
        "id": "EXoobsvhMz2q",
        "colab_type": "code",
        "colab": {}
      },
      "source": [
        "#IMPORTS\n",
        "import matplotlib.pyplot as plt  #import library\n",
        "import numpy as np\n",
        "\n",
        "#make a function that draws graphs\n",
        "def simple_graph(independent_variable, dependent_variable):\n",
        "  plt.plot(k_array, p_t_1) #make graph\n",
        "  plt.xlabel('percent of people with antibodies')  #name axis\n",
        "  plt.ylabel('percent of people tested positive') #name axis \n",
        "  plt.grid() #add grid so it's easier to read off the results\n",
        "  plt.title('Percent of people testing positive depending on the percent of people having antibodies') #give title\n",
        "  plt.show() #show graph"
      ],
      "execution_count": 0,
      "outputs": []
    },
    {
      "cell_type": "code",
      "metadata": {
        "id": "doYs5rnbPyWb",
        "colab_type": "code",
        "outputId": "78da365c-a711-411d-f767-7e58375ba455",
        "colab": {
          "base_uri": "https://localhost:8080/",
          "height": 392
        }
      },
      "source": [
        "#IMPLICIT WAY OF MAKING GRAPH (as little hand calculations as possible)\n",
        "#create arrays of the function p_t_1 (test turning out positive) and the variable k (corresponds to the percent of people with antibodies)\n",
        "p_t_1 = []\n",
        "k_array = []\n",
        "count = 0\n",
        "for k in np.arange(1, 100, 0.005): #k is slowly increasing \n",
        "  k_array.append(k)\n",
        "  p_1=p*k #true positive (the person really has antibodies; variable)\n",
        "  n_1=1-k*p #true negative (the person really does not have antibodies; obtained based on p_1 expression in terms of k)\n",
        "  p_t_1.append((p_1*a + n_1*(1-b))*100) #recalculate positive results, with k free parameter\n",
        "  if 50<p_t_1[count]<50.005:\n",
        "    print(\"When at least about \", round(k, 2), \" percent of population will have antibodies, test will give positive result in 50% of cases.\")\n",
        "  count+=1\n",
        "simple_graph(k_array, p_t_1)"
      ],
      "execution_count": 53,
      "outputs": [
        {
          "output_type": "stream",
          "text": [
            "When at least about  47.87  percent of population will have antibodies, test will give positive result in 50% of cases.\n"
          ],
          "name": "stdout"
        },
        {
          "output_type": "display_data",
          "data": {
            "image/png": "[encoded data removed]",
            "text/plain": [
              "<Figure size 360x360 with 1 Axes>"
            ]
          },
          "metadata": {
            "tags": []
          }
        }
      ]
    },
    {
      "cell_type": "code",
      "metadata": {
        "id": "svynMlCqP2IY",
        "colab_type": "code",
        "outputId": "d2599448-4dbd-469a-92d7-24c3ac9feb81",
        "colab": {
          "base_uri": "https://localhost:8080/",
          "height": 372
        }
      },
      "source": [
        "#EXPLICIT WAY OF MAKING GRAPH (small calculation by hand, handy outcomes; y=p_t_1)\n",
        "y = []\n",
        "for k in k_array:\n",
        "  y.append(0.0094*k+0.05)\n",
        "simple_graph(k_array, y)\n",
        "\n",
        "#Calculating k explicitly\n",
        "k=round(((0.5-0.05)/0.0094), 2)\n",
        "print(\"When \", k, \"% of population will have antibodies, the test will turn out to be positive in 1/2 cases.\")"
      ],
      "execution_count": 54,
      "outputs": [
        {
          "output_type": "display_data",
          "data": {
            "image/png": "[encoded data removed]",
            "text/plain": [
              "<Figure size 360x360 with 1 Axes>"
            ]
          },
          "metadata": {
            "tags": []
          }
        },
        {
          "output_type": "stream",
          "text": [
            "When  47.87 % of population will have antibodies, the test will turn out to be positive in 1/2 cases.\n"
          ],
          "name": "stdout"
        }
      ]
    },
    {
      "cell_type": "markdown",
      "metadata": {
        "id": "4EhPL9BMla1m",
        "colab_type": "text"
      },
      "source": [
        "###Interpretation of results: Task 1\n",
        "\n",
        "The results show that the probability of a positive test indicating correctly that a person does indeed have the anti-bodies is just below 17%. From this we can conclude that the positive outcomes of the test are not to be blindly trusted (most probably that person does not have antibodies, despite the test showing otherwise). On the other hand, if the results of the test are negative, we can be very sure that they are correct. Within the precision of the data given in the task, we can even be sure with 100% certainty that if the results of the test be negative, the person does not have antibodies. \n",
        "\n",
        "If this was a real-world situaton, I would recommend that in case of a test coming out as positive, multiple (or alternative) tests be repeated/performed on that person, as the positive result is clearly not a good indicator of the presence of antibodies. Just about 1 in 6 people testing positive would actually have antibodies. If I had limited resources (as one does in real-life) I would on the other hand not repeat tests on cases that turned out negative, as those results clearly are much more accurate."
      ]
    },
    {
      "cell_type": "markdown",
      "metadata": {
        "id": "tP-Sj15d-UiD",
        "colab_type": "text"
      },
      "source": [
        "###Interpretation of Part 2\n",
        "\n",
        "weciqjdljqlejqli"
      ]
    },
    {
      "cell_type": "markdown",
      "metadata": {
        "id": "nGQbxU2sNY_G",
        "colab_type": "text"
      },
      "source": [
        "# Part 2: Probability Distributions"
      ]
    },
    {
      "cell_type": "markdown",
      "metadata": {
        "id": "stZl3Rk_NaSl",
        "colab_type": "text"
      },
      "source": [
        "Task 1: Make a script to generate a discrete distribution, with values in the integer\n",
        "bins. The script should be able to generate a Gaussian, Bionomial, Poisson and an\n",
        "Exponential distribution – it should always use the same range of values to do so\n",
        "(i.e. the x-axis should run from 0 to 10 for example).\n",
        "\n",
        "Task 2: Choose one of the distributions from the task above and make it into a\n",
        "continuous distribution. You may have to bin it into a histogram to be able to plot\n",
        "it."
      ]
    },
    {
      "cell_type": "code",
      "metadata": {
        "id": "79qSQy5bxtx-",
        "colab_type": "code",
        "colab": {}
      },
      "source": [
        "# IMPORT STATEMENTS FOR LIBRARIES\n",
        "\n",
        "%matplotlib inline\n",
        "# import matplotlib\n",
        "import matplotlib.pyplot as plt\n",
        "# for latex equations\n",
        "from IPython.display import Math, Latex\n",
        "# for displaying images\n",
        "from IPython.core.display import Image\n",
        "# import seaborn\n",
        "import seaborn as sns\n",
        "# settings for seaborn plotting style\n",
        "sns.set(color_codes=True)\n",
        "# settings for seaborn plot sizes\n",
        "sns.set(rc={'figure.figsize':(5,5)})\n",
        "sns.set_style(\"white\")"
      ],
      "execution_count": 0,
      "outputs": []
    },
    {
      "cell_type": "code",
      "metadata": {
        "id": "3KARnZogyw7x",
        "colab_type": "code",
        "colab": {}
      },
      "source": [
        "#IMPORT STATEMENTS FOR DIFFERENT DISTRIBUTIONS\n",
        "\n",
        "mysize=1000\n",
        "\n",
        "from scipy.stats import norm\n",
        "data_normal = norm.rvs(size=mysize,loc=5,scale=1)\n",
        "\n",
        "from scipy.stats import expon\n",
        "data_expon = expon.rvs(scale=1,loc=0,size=mysize)\n",
        "\n",
        "from scipy.stats import poisson\n",
        "data_poisson = poisson.rvs(mu=3.5, size=mysize)\n",
        "\n",
        "from scipy.stats import binom\n",
        "data_binom = binom.rvs(n=10,p=0.48,size=mysize)"
      ],
      "execution_count": 0,
      "outputs": []
    },
    {
      "cell_type": "code",
      "metadata": {
        "id": "OQjOb8Cg2HTY",
        "colab_type": "code",
        "colab": {}
      },
      "source": [
        "#DEFINING FUNCTIONS FOR DISCRETE AND CONTINUOUS DISTRIBUTIONS\n",
        "\n",
        "#discrete distribution\n",
        "def plot_graph(which_data, x_axis): #for x_axis write the type of distribution as a string\n",
        "  ax = sns.distplot(which_data,\n",
        "                  bins=10,\n",
        "                  norm_hist=True,\n",
        "                  kde=False,\n",
        "                  color='skyblue',\n",
        "                  hist_kws={\"linewidth\": 15,'alpha':1})\n",
        "  ax.set(xlabel=x_axis, ylabel=\"probability\", xlim=(0,10))\n",
        "\n",
        "#continuous distribution\n",
        "def plot_continuous(which_data, x_axis): #for x_axis write the type of distribution as a string\n",
        "  bx = sns.distplot(which_data,\n",
        "                bins=10,\n",
        "                hist=False,\n",
        "                kde=True,\n",
        "                color='skyblue',\n",
        "                hist_kws={\"linewidth\": 15,'alpha':1})\n",
        "  bx.set(xlabel=x_axis, ylabel='probability', xlim=(0,10))"
      ],
      "execution_count": 0,
      "outputs": []
    },
    {
      "cell_type": "markdown",
      "metadata": {
        "id": "QZAbVkjajelB",
        "colab_type": "text"
      },
      "source": [
        "Below normalised graphs for the gaussian, exponential, poisson and binomial distributions will be generated respectively. For each type of distribution, firstly dicrete and secondly continuous graph will be plotted."
      ]
    },
    {
      "cell_type": "code",
      "metadata": {
        "id": "qcbMceZ03LFt",
        "colab_type": "code",
        "outputId": "5518d3d1-3b6e-48fa-a754-18757e0f8021",
        "colab": {
          "base_uri": "https://localhost:8080/",
          "height": 339
        }
      },
      "source": [
        "plot_graph(data_normal, \"normal distribution\")"
      ],
      "execution_count": 58,
      "outputs": [
        {
          "output_type": "display_data",
          "data": {
            "image/png": "[encoded data removed]",
            "text/plain": [
              "<Figure size 360x360 with 1 Axes>"
            ]
          },
          "metadata": {
            "tags": []
          }
        }
      ]
    },
    {
      "cell_type": "code",
      "metadata": {
        "id": "H39ABhjJh4mL",
        "colab_type": "code",
        "outputId": "66c9ac6c-6a68-454b-c154-aac414e11f99",
        "colab": {
          "base_uri": "https://localhost:8080/",
          "height": 339
        }
      },
      "source": [
        "plot_continuous(data_normal, \"normal distribution\")"
      ],
      "execution_count": 59,
      "outputs": [
        {
          "output_type": "display_data",
          "data": {
            "image/png": "[encoded data removed]",
            "text/plain": [
              "<Figure size 360x360 with 1 Axes>"
            ]
          },
          "metadata": {
            "tags": []
          }
        }
      ]
    },
    {
      "cell_type": "code",
      "metadata": {
        "id": "wsdg68iq3dxL",
        "colab_type": "code",
        "outputId": "a8ff2310-a913-4d85-bab9-fb9aa3c22bff",
        "colab": {
          "base_uri": "https://localhost:8080/",
          "height": 339
        }
      },
      "source": [
        "plot_graph(data_expon, \"exponential distribution\")"
      ],
      "execution_count": 60,
      "outputs": [
        {
          "output_type": "display_data",
          "data": {
            "image/png": "[encoded data removed]",
            "text/plain": [
              "<Figure size 360x360 with 1 Axes>"
            ]
          },
          "metadata": {
            "tags": []
          }
        }
      ]
    },
    {
      "cell_type": "code",
      "metadata": {
        "id": "iVBWOD50h_SO",
        "colab_type": "code",
        "outputId": "8ad95baa-2c52-476d-8399-bbb861ca6044",
        "colab": {
          "base_uri": "https://localhost:8080/",
          "height": 339
        }
      },
      "source": [
        "plot_continuous(data_expon, \"exponential distribution\")"
      ],
      "execution_count": 61,
      "outputs": [
        {
          "output_type": "display_data",
          "data": {
            "image/png": "[encoded data removed]",
            "text/plain": [
              "<Figure size 360x360 with 1 Axes>"
            ]
          },
          "metadata": {
            "tags": []
          }
        }
      ]
    },
    {
      "cell_type": "code",
      "metadata": {
        "id": "OCTM_c3B3vva",
        "colab_type": "code",
        "outputId": "f82a844f-8b5f-439e-d63c-daa2bb4ebb9d",
        "colab": {
          "base_uri": "https://localhost:8080/",
          "height": 339
        }
      },
      "source": [
        "plot_graph(data_poisson, \"poisson distribution\")"
      ],
      "execution_count": 62,
      "outputs": [
        {
          "output_type": "display_data",
          "data": {
            "image/png": "[encoded data removed]",
            "text/plain": [
              "<Figure size 360x360 with 1 Axes>"
            ]
          },
          "metadata": {
            "tags": []
          }
        }
      ]
    },
    {
      "cell_type": "code",
      "metadata": {
        "id": "U32HDAQUiGgx",
        "colab_type": "code",
        "outputId": "cfda0c5a-ef17-4b8c-a594-b4db06767d78",
        "colab": {
          "base_uri": "https://localhost:8080/",
          "height": 339
        }
      },
      "source": [
        "plot_continuous(data_poisson, \"poisson distribution\")"
      ],
      "execution_count": 63,
      "outputs": [
        {
          "output_type": "display_data",
          "data": {
            "image/png": "[encoded data removed]",
            "text/plain": [
              "<Figure size 360x360 with 1 Axes>"
            ]
          },
          "metadata": {
            "tags": []
          }
        }
      ]
    },
    {
      "cell_type": "code",
      "metadata": {
        "id": "i4xNVWXm4A1T",
        "colab_type": "code",
        "outputId": "8f73c122-2bf1-4645-a020-ff46a46d1539",
        "colab": {
          "base_uri": "https://localhost:8080/",
          "height": 339
        }
      },
      "source": [
        "plot_graph(data_binom, \"binomial distribution\") "
      ],
      "execution_count": 64,
      "outputs": [
        {
          "output_type": "display_data",
          "data": {
            "image/png": "[encoded data removed]",
            "text/plain": [
              "<Figure size 360x360 with 1 Axes>"
            ]
          },
          "metadata": {
            "tags": []
          }
        }
      ]
    },
    {
      "cell_type": "code",
      "metadata": {
        "id": "epCinCH_iNRT",
        "colab_type": "code",
        "outputId": "eeb2c0e9-0180-4735-a650-9b7c00667648",
        "colab": {
          "base_uri": "https://localhost:8080/",
          "height": 339
        }
      },
      "source": [
        "plot_continuous(data_binom, \"binomial distribution\")"
      ],
      "execution_count": 65,
      "outputs": [
        {
          "output_type": "display_data",
          "data": {
            "image/png": "[encoded data removed]",
            "text/plain": [
              "<Figure size 360x360 with 1 Axes>"
            ]
          },
          "metadata": {
            "tags": []
          }
        }
      ]
    },
    {
      "cell_type": "markdown",
      "metadata": {
        "id": "7uf_WmSu3KTG",
        "colab_type": "text"
      },
      "source": [
        "Follow up task: Modify your script to accept two values and return the sum of the\n",
        "probability distribution function between those values (e.g. so I could ask for the\n",
        "total of the exponential distribution between 0 and 2 for example)"
      ]
    },
    {
      "cell_type": "code",
      "metadata": {
        "id": "Qjv5pE6M61PI",
        "colab_type": "code",
        "outputId": "0bf99443-e45d-4437-fb6f-43e0a1b6e5bf",
        "colab": {
          "base_uri": "https://localhost:8080/",
          "height": 444
        }
      },
      "source": [
        "def discrete_integral(give_your_distribution_name_string, data_type, lower_boundary, higher_boundary):\n",
        "  hist,bins = np.histogram(data_type,bins = [lower_boundary, higher_boundary])\n",
        "  y=sum(hist)/mysize #what portion of events take place in this region\n",
        "  \n",
        "  print(\"Chosen distribution: \", give_your_distribution_name_string)\n",
        "  print(\"Chosen range:  \", bins) \n",
        "  print(\"Number of events in that chosen range: \", hist) \n",
        "  print(\"Probability of finding an event in your chosen range is: \", y)\n",
        "  print(\"\"\"\n",
        "  \"\"\")\n",
        "\n",
        "\n",
        "#YOU ARE WELCOME TO MODIFY BOUNDARIES AT YOUR WILL (if you go outside range [0,10] probability will be 0)\n",
        "discrete_integral(\"Normal Distribution\", data_normal, 0, 10)\n",
        "discrete_integral(\"Exponential Distribution\", data_expon, 0, 10)\n",
        "discrete_integral(\"Binomial Distribution\", data_binom, 0, 10)\n",
        "discrete_integral(\"Poisson Distribution\", data_poisson, 0, 10)"
      ],
      "execution_count": 66,
      "outputs": [
        {
          "output_type": "stream",
          "text": [
            "Chosen distribution:  Normal Distribution\n",
            "Chosen range:   [ 0 10]\n",
            "Number of events in that chosen range:  [1000]\n",
            "Probability of finding an event in your chosen range is:  1.0\n",
            "\n",
            "  \n",
            "Chosen distribution:  Exponential Distribution\n",
            "Chosen range:   [ 0 10]\n",
            "Number of events in that chosen range:  [1000]\n",
            "Probability of finding an event in your chosen range is:  1.0\n",
            "\n",
            "  \n",
            "Chosen distribution:  Binomial Distribution\n",
            "Chosen range:   [ 0 10]\n",
            "Number of events in that chosen range:  [1000]\n",
            "Probability of finding an event in your chosen range is:  1.0\n",
            "\n",
            "  \n",
            "Chosen distribution:  Poisson Distribution\n",
            "Chosen range:   [ 0 10]\n",
            "Number of events in that chosen range:  [1000]\n",
            "Probability of finding an event in your chosen range is:  1.0\n",
            "\n",
            "  \n"
          ],
          "name": "stdout"
        }
      ]
    },
    {
      "cell_type": "markdown",
      "metadata": {
        "id": "a4662mlF-i7Y",
        "colab_type": "text"
      },
      "source": [
        "###Interpretation \n",
        "\n",
        "hwekdqiil"
      ]
    },
    {
      "cell_type": "markdown",
      "metadata": {
        "id": "7L-iJpWiSPQ-",
        "colab_type": "text"
      },
      "source": [
        "#Part 3: Expectation values\n"
      ]
    },
    {
      "cell_type": "markdown",
      "metadata": {
        "id": "3W-n7hz_UR_A",
        "colab_type": "text"
      },
      "source": [
        "Choose one of your discrete distributions and one of your continuous\n",
        "distributions from the previous task. Write a small script to take the data from the\n",
        "histogram and turn it into an expectation value."
      ]
    },
    {
      "cell_type": "code",
      "metadata": {
        "id": "71zHkqdxozyI",
        "colab_type": "code",
        "colab": {}
      },
      "source": [
        "#DISCRETE DISTRIBUTIONS\n",
        "\n",
        "def discrete_expectation(name_your_distribution_string, data_type, total_number_of_events):\n",
        "  hist,bins = np.histogram(data_type, bins=[0,1,2,3,4,5,6,7,8,9,10])\n",
        "  print(\"bins have the following boundaries: \",bins)\n",
        "  print(\"number of events in each bin: \", hist)\n",
        "\n",
        "  #make number of events a list, where the first element means the number of events in bin 1, ...\n",
        "  events=[]\n",
        "  for i in hist:\n",
        "    events.append(i) \n",
        "\n",
        "  #calculate expectation value by multiplying the number of bin and the probability of finding an event in that bin (number of events in that bin/total number of events) and sum everything\n",
        "  y=[]\n",
        "  for i in range(9):\n",
        "    y.append(events[i]*(i+1)/total_number_of_events)\n",
        "  expectation=sum(y)\n",
        "  print(\"Expectation value for a discrete \", name_your_distribution_string , \" : \", round(expectation,2))\n",
        "\n",
        "#calculate average of your distribution\n",
        "def simple_average(data_type):\n",
        "  y=sum(data_type)/len(data_type)\n",
        "  print(y)\n",
        "\n",
        "#define function for continuous expectation value\n",
        "def continuous_expectation(data_type, data):\n",
        "  u=[]\n",
        "  f=[]\n",
        "  integrand=[]\n",
        "  for i in range(mysize):\n",
        "    u=u.append(data_type[i])\n",
        "    f=f.append(data[i])\n",
        "  for j in range(mysize):\n",
        "    integrand.append(u[j]*f[j])\n",
        "  y=sum(integrand)\n",
        "  print(y)\n"
      ],
      "execution_count": 0,
      "outputs": []
    },
    {
      "cell_type": "code",
      "metadata": {
        "id": "TBNn0mBXxrR8",
        "colab_type": "code",
        "colab": {}
      },
      "source": [
        "#define function for continuous expectation value\n",
        "def continuous_expectation(data_type, data):\n",
        "  u=[]\n",
        "  f=[]\n",
        "  integrand=[]\n",
        "  for i in range(mysize):\n",
        "    u=u.append(data_type[i])\n",
        "    f=f.append(data[i])\n",
        "  for j in range(mysize):\n",
        "    integrand.append(u[j]*f[j])\n",
        "  y=sum(integrand)\n",
        "  print(y)"
      ],
      "execution_count": 0,
      "outputs": []
    },
    {
      "cell_type": "code",
      "metadata": {
        "id": "b6EASoPwogib",
        "colab_type": "code",
        "outputId": "203c8fbf-4fad-41f3-8c28-2228daef4ea2",
        "colab": {
          "base_uri": "https://localhost:8080/",
          "height": 301
        }
      },
      "source": [
        "discrete_expectation(\"exponential distribution\", data_expon, mysize)\n",
        "discrete_expectation(\"normal distribution\", data_normal, mysize)\n",
        "discrete_expectation(\"binomial distribution\", data_binom, mysize)\n",
        "discrete_expectation(\"poisson distribution\", data_poisson, mysize)\n",
        "\n",
        "simple_average(data_expon)\n",
        "simple_average(data_normal)\n",
        "simple_average(data_binom)\n",
        "simple_average(data_poisson)\n"
      ],
      "execution_count": 77,
      "outputs": [
        {
          "output_type": "stream",
          "text": [
            "bins have the following boundaries:  [ 0  1  2  3  4  5  6  7  8  9 10]\n",
            "number of events in each bin:  [630 231  81  34  10   6   6   2   0   0]\n",
            "Expectation value for a discrete  exponential distribution  :  1.62\n",
            "bins have the following boundaries:  [ 0  1  2  3  4  5  6  7  8  9 10]\n",
            "number of events in each bin:  [  1   1  25 146 321 353 133  19   1   0]\n",
            "Expectation value for a discrete  normal distribution  :  5.48\n",
            "bins have the following boundaries:  [ 0  1  2  3  4  5  6  7  8  9 10]\n",
            "number of events in each bin:  [  1  15  60 131 230 226 205  95  27  10]\n",
            "Expectation value for a discrete  binomial distribution  :  5.68\n",
            "bins have the following boundaries:  [ 0  1  2  3  4  5  6  7  8  9 10]\n",
            "number of events in each bin:  [ 38  87 184 223 195 113  93  34  20  13]\n",
            "Expectation value for a discrete  poisson distribution  :  4.41\n",
            "1.0270446225912624\n",
            "4.976829683482236\n",
            "4.779\n",
            "3.544\n"
          ],
          "name": "stdout"
        }
      ]
    },
    {
      "cell_type": "code",
      "metadata": {
        "id": "v7nXvQJyprkV",
        "colab_type": "code",
        "outputId": "b5aabf56-8890-4541-a5ea-98f2eda48829",
        "colab": {
          "base_uri": "https://localhost:8080/",
          "height": 141
        }
      },
      "source": [
        "#test\n",
        "mydata=[0,1,2,2,3,3,3,4,4,4,4, 5,5,5,5,5, 6,6,6,6,7,7,7,8,8,9,10]\n",
        "print(len(mydata))\n",
        "print(sum(mydata))\n",
        "exp=sum(mydata)/len(mydata)\n",
        "print(\"easy: \",exp)\n",
        "discrete_expectation(\"check function\", mydata, len(mydata))\n",
        "simple_average(mydata)"
      ],
      "execution_count": 70,
      "outputs": [
        {
          "output_type": "stream",
          "text": [
            "27\n",
            "135\n",
            "easy:  5.0\n",
            "bins have the following boundaries:  [ 0  1  2  3  4  5  6  7  8  9 10]\n",
            "number of events in each bin:  [1 1 2 3 4 5 4 3 2 2]\n",
            "Expectation value for a discrete  check function  :  5.22\n",
            "5.0\n"
          ],
          "name": "stdout"
        }
      ]
    },
    {
      "cell_type": "code",
      "metadata": {
        "id": "lsLaPUe-ui4f",
        "colab_type": "code",
        "colab": {}
      },
      "source": [
        "#CONTINUOUS DISTRIBUTIONS"
      ],
      "execution_count": 0,
      "outputs": []
    },
    {
      "cell_type": "markdown",
      "metadata": {
        "id": "yOVZtKKW9wwE",
        "colab_type": "text"
      },
      "source": [
        "###Interpretation of task 1\n",
        "\n",
        "blablabalhssxdilcuilvuieruifheruiohe"
      ]
    },
    {
      "cell_type": "markdown",
      "metadata": {
        "id": "XlEGJpFWUSxt",
        "colab_type": "text"
      },
      "source": [
        "Expectation values are also useful in understanding how game\n",
        "shows work. Make a small game, which simulates the TV show deal or no deal.\n",
        "There are 20 boxes (numbered 1-20). The contestant chooses one box to keep and\n",
        "then opens 3 at random and gets to know the values of these boxes. What is the\n",
        "expected value of the prize they go home with? They have 1 box out of 17\n",
        "remaining. Make it simple – the three random boxes don’t have to be chosen by the\n",
        "user – simply chosen at random from the possibilities."
      ]
    },
    {
      "cell_type": "code",
      "metadata": {
        "id": "kk_cjdJuUjie",
        "colab_type": "code",
        "outputId": "6654a2ee-147b-4cc2-c548-b1f47a2c2bd9",
        "colab": {
          "base_uri": "https://localhost:8080/",
          "height": 55
        }
      },
      "source": [
        "#to see intermediate steps of the game, uncomment everything\n",
        "#please read the illuminating output; 'expectation value' is really not the most likely value, but purely an average. Naming is very misleading.\n",
        "\n",
        "import random\n",
        "import statistics\n",
        "boxes=[1,2,3,4,5,6,7,8,9,10,11,12,13,14,15,16,17,18,19,20]\n",
        "#print(boxes)\n",
        "original_box=random.choice(boxes)\n",
        "#print(original_box)\n",
        "boxes.remove(original_box)\n",
        "#print(boxes)\n",
        "box_1=random.choice(boxes)\n",
        "#print(box_1)\n",
        "boxes.remove(box_1)\n",
        "#print(boxes)\n",
        "box_2=random.choice(boxes)\n",
        "#print(box_2)\n",
        "boxes.remove(box_2)\n",
        "#print(boxes)\n",
        "box_3=random.choice(boxes)\n",
        "#print(box_3)\n",
        "boxes.remove(box_3)\n",
        "#print(boxes)\n",
        "boxes.append(original_box)\n",
        "#print(boxes)\n",
        "def expectation_value(decimal):\n",
        "  y=statistics.mean(boxes) #in this particular case expectation value equals the mean (discrete dataset)\n",
        "  return round(y, decimal)\n",
        "#print(expectation_value(2))\n",
        "print(\"God knows that the contestant put aside box with value \", original_box, \n",
        "      \". Then, as the whole show knows, the contestant picked 3 boxes with values \", \n",
        "      box_1, \", \", box_2, \" and \", box_3,  \" respectively. The expectation value of the 17 unopened boxes is \", \n",
        "      expectation_value(2), \". However, \", expectation_value(0), \n",
        "      \" is not the most likely value that's hidden in the unopened box, but purely an average of the remaining boxes.\" \n",
        "      \"The numbers close to the mean have in this distribution really nothing to do with how likely one is to pick such a value.\"\n",
        "      \" Naming 'expectation value' is unfortunately very misleding.\")"
      ],
      "execution_count": 72,
      "outputs": [
        {
          "output_type": "stream",
          "text": [
            "God knows that the contestant put aside box with value  3 . Then, as the whole show knows, the contestant picked 3 boxes with values  7 ,  1  and  11  respectively. The expectation value of the 17 unopened boxes is  11.24 . However,  11.0  is not the most likely value that's hidden in the unopened box, but purely an average of the remaining boxes.The numbers close to the mean have in this distribution really nothing to do with how likely one is to pick such a value. Naming 'expectation value' is unfortunately very misleding.\n"
          ],
          "name": "stdout"
        }
      ]
    },
    {
      "cell_type": "markdown",
      "metadata": {
        "id": "ZJvRLHAY956J",
        "colab_type": "text"
      },
      "source": [
        "###Interpretation of task 2\n",
        "\n",
        "baksdlwieufqeuifqepfuipquie"
      ]
    },
    {
      "cell_type": "markdown",
      "metadata": {
        "id": "op19Y0icUljH",
        "colab_type": "text"
      },
      "source": [
        "#Part 3: Messy real world"
      ]
    },
    {
      "cell_type": "markdown",
      "metadata": {
        "id": "e5zh78oCUrRU",
        "colab_type": "text"
      },
      "source": [
        "Take your script which outputs your distribution and have it print the expectation\n",
        "value, the mean value, the variance, skewness and kurtosis. "
      ]
    },
    {
      "cell_type": "code",
      "metadata": {
        "id": "NtzKxyWAU6Mf",
        "colab_type": "code",
        "colab": {}
      },
      "source": [
        "import scipy.stats\n",
        "from scipy.stats import norm, poisson, binom, expon, skew, kurtosis\n",
        "\n",
        "#good programmer is a lazy programmer\n",
        "#use statistics package to get information about your distributions\n",
        "def LazyRealWorld(name_your_distribution_string, data_type):\n",
        "\n",
        "  print(name_your_distribution_string)\n",
        "  print(\"mean: {}\" .format(np.mean(data_type)))\n",
        "  print(\"expectation value: {}\")\n",
        "  print(\"variance: {}\" .format(np.var(data_type)))\n",
        "  print(\"skewness: {}\" .format(skew(data_type)))\n",
        "  print(\"kurtosis: {}\" .format(kurtosis(data_type)))\n",
        "  print(\"\"\"\n",
        "  \"\"\")"
      ],
      "execution_count": 0,
      "outputs": []
    },
    {
      "cell_type": "code",
      "metadata": {
        "id": "stGMOW8FBy4m",
        "colab_type": "code",
        "colab": {
          "base_uri": "https://localhost:8080/",
          "height": 1000
        },
        "outputId": "b873cbe5-142b-40f3-e3a9-f875963ead15"
      },
      "source": [
        "def blabla(data_type):\n",
        "  print(norm.pdf(data_type))\n",
        "  print(norm.expect(data_type, lb = -10**(10), ub = 10**(10)))\n",
        "\n",
        "blabla(data_expon)"
      ],
      "execution_count": 74,
      "outputs": [
        {
          "output_type": "stream",
          "text": [
            "[2.94156862e-01 3.98817609e-01 4.32021802e-02 2.84856525e-01\n",
            " 3.98925358e-01 1.78675619e-01 3.98645170e-01 3.95756234e-01\n",
            " 2.37450797e-09 3.98640367e-01 2.18169611e-01 2.65949304e-01\n",
            " 3.75070500e-01 3.98679325e-01 2.12719584e-01 1.99022635e-01\n",
            " 3.20210136e-01 8.25422827e-02 2.36941381e-01 2.42536536e-01\n",
            " 3.71471221e-01 3.93541807e-01 6.12058052e-02 1.45129676e-01\n",
            " 3.82912799e-01 3.64024860e-01 1.07366151e-01 1.16915965e-01\n",
            " 1.93357414e-01 3.67497698e-01 3.09001979e-01 7.36215939e-03\n",
            " 2.26336808e-01 1.55905731e-01 4.10920102e-02 3.98924448e-01\n",
            " 3.81664348e-01 3.98672112e-01 3.67809368e-01 3.78867255e-01\n",
            " 6.78685992e-02 3.98385710e-01 1.49747855e-01 3.98165457e-01\n",
            " 3.23246800e-01 2.40911493e-01 3.98873278e-01 3.69168936e-01\n",
            " 1.42423779e-01 3.12795616e-01 4.79211689e-02 3.85239316e-01\n",
            " 2.63400456e-01 3.23691489e-01 6.61709945e-02 2.15502356e-03\n",
            " 3.98690358e-01 3.83338838e-01 3.54401118e-01 3.91756493e-01\n",
            " 2.33318665e-02 9.60324332e-02 6.99088438e-02 3.30651206e-01\n",
            " 1.99036889e-01 7.20114809e-03 3.29137389e-01 1.74322372e-01\n",
            " 2.02495170e-10 3.48735787e-01 2.84612092e-03 3.70224354e-01\n",
            " 2.72537818e-01 3.83641607e-01 3.96411033e-01 3.61237135e-01\n",
            " 3.46583228e-01 3.98375043e-01 3.19706919e-01 3.12577614e-02\n",
            " 1.18973471e-03 3.93903364e-01 3.79955215e-01 3.28993109e-01\n",
            " 2.27397034e-01 3.57424187e-01 3.94211985e-01 3.89509734e-01\n",
            " 3.97636271e-01 2.05978164e-01 1.30997913e-11 3.27773377e-01\n",
            " 3.96738581e-01 3.96407284e-01 3.94128531e-01 3.93749124e-01\n",
            " 2.05694078e-01 3.53914540e-01 3.08338020e-01 3.79198642e-01\n",
            " 3.98942161e-01 3.88730631e-01 1.00916780e-02 2.70882119e-01\n",
            " 3.98403609e-01 3.98659557e-01 3.49625802e-01 2.88939416e-01\n",
            " 3.76745155e-01 2.30239782e-01 3.24879063e-01 3.84344374e-01\n",
            " 3.40845079e-01 3.80251989e-01 2.51340858e-01 3.83861351e-01\n",
            " 1.62756678e-01 3.98899566e-01 3.31417031e-01 1.79967200e-01\n",
            " 3.97823352e-01 3.75354863e-01 3.94484866e-01 1.05842474e-01\n",
            " 3.19859231e-01 3.98941404e-01 2.44010556e-01 3.90636581e-01\n",
            " 2.22059547e-01 2.31862292e-02 1.84281070e-01 3.69687507e-01\n",
            " 8.12613750e-02 3.67637044e-01 3.30383909e-01 2.52655161e-01\n",
            " 3.28122797e-01 3.94200085e-01 9.25206793e-02 1.33902366e-01\n",
            " 3.98793818e-01 3.96808051e-01 3.31047866e-01 8.42474433e-02\n",
            " 3.75624977e-01 1.26737239e-01 2.25140001e-01 3.15949584e-01\n",
            " 3.87482221e-01 3.46670992e-01 3.62350886e-03 9.70031122e-02\n",
            " 1.73374477e-02 3.71268134e-01 3.95249846e-01 3.98808845e-01\n",
            " 7.12602492e-03 3.16947141e-01 6.73932599e-02 1.35392198e-01\n",
            " 1.87698283e-01 3.18478129e-01 2.16674586e-04 7.43572223e-02\n",
            " 4.70548414e-03 3.93506840e-01 3.81580739e-01 1.15901006e-01\n",
            " 3.26655588e-01 1.19482775e-01 8.96400107e-02 3.87801809e-02\n",
            " 6.04464662e-02 2.90481615e-01 1.43027017e-06 1.94605906e-01\n",
            " 3.98871173e-01 3.98935545e-01 7.22559591e-02 3.27236566e-01\n",
            " 3.95018714e-01 3.98853846e-01 3.11346051e-01 3.28192250e-01\n",
            " 3.98833504e-01 3.01016278e-01 3.81005415e-01 2.79538078e-01\n",
            " 1.60617763e-01 1.85924118e-01 1.89064599e-01 3.47444392e-01\n",
            " 2.78412859e-02 2.88948673e-01 3.98781027e-01 3.79256515e-01\n",
            " 1.84490088e-01 3.97617897e-01 3.96968032e-01 3.95657994e-01\n",
            " 1.75290615e-01 3.95933767e-01 3.84915455e-01 1.60277794e-02\n",
            " 3.05341614e-01 3.88523581e-01 3.91762345e-01 3.98936297e-01\n",
            " 1.47091544e-01 3.98715592e-01 3.87538565e-01 3.96290787e-01\n",
            " 3.98573808e-01 3.98209436e-01 3.73527412e-01 3.98584870e-01\n",
            " 3.58708182e-01 4.43101738e-02 3.93155428e-01 3.65554509e-01\n",
            " 3.85139114e-01 3.32924425e-01 1.33852036e-01 3.88541487e-01\n",
            " 2.77897570e-02 2.28895629e-01 3.95601818e-01 5.08767405e-02\n",
            " 2.03429491e-01 1.15529318e-01 7.21812215e-03 3.43732367e-01\n",
            " 3.68345156e-01 3.95767282e-01 3.30788631e-01 2.39945510e-01\n",
            " 1.71050688e-02 3.88276458e-01 8.76385496e-02 2.81742435e-01\n",
            " 3.47956208e-01 3.82411518e-01 3.97418658e-01 3.95635323e-01\n",
            " 3.97126748e-01 2.68618736e-01 3.08574262e-01 5.38621333e-02\n",
            " 3.96919741e-01 1.68137028e-01 2.73066114e-02 1.22560986e-01\n",
            " 1.36097758e-01 3.89593055e-01 3.26519547e-01 2.12263641e-02\n",
            " 2.96451157e-01 3.84880458e-01 2.75784762e-01 3.91393967e-01\n",
            " 3.22502279e-01 3.98769874e-01 8.04023723e-02 3.74227681e-01\n",
            " 2.59645901e-01 3.33046153e-01 2.43690201e-01 2.78120710e-01\n",
            " 3.62307270e-01 3.27924696e-01 3.62763559e-01 3.61102350e-01\n",
            " 3.97744756e-01 2.84487603e-01 2.91440294e-01 5.14611606e-02\n",
            " 7.98759308e-03 4.49277880e-02 3.96973471e-01 1.40352003e-01\n",
            " 3.48363298e-01 3.97610381e-01 2.55933950e-01 1.79391667e-01\n",
            " 3.91061922e-01 3.82601293e-01 1.83662195e-01 3.30105009e-03\n",
            " 3.05555517e-02 2.02731113e-04 3.96221891e-01 3.57466754e-02\n",
            " 3.90892826e-01 1.03656931e-09 1.23324514e-02 2.79242298e-01\n",
            " 2.97955328e-01 3.67967839e-01 2.98043580e-01 3.92274780e-01\n",
            " 4.09895133e-02 2.63379739e-01 2.08597007e-02 2.96622679e-01\n",
            " 3.83479043e-01 3.10743150e-01 3.54008552e-01 3.90649966e-01\n",
            " 4.49883065e-04 3.27389635e-01 3.71942979e-01 1.97797456e-01\n",
            " 3.69124514e-01 3.41431384e-01 3.98922640e-01 1.90842343e-01\n",
            " 3.86689349e-01 3.90339860e-01 3.39464834e-01 2.96250672e-01\n",
            " 3.98829928e-01 1.31469200e-03 3.97289998e-01 2.16410752e-01\n",
            " 3.80720755e-01 2.22113356e-01 3.41614154e-01 3.97869931e-01\n",
            " 3.26491305e-01 3.98008018e-01 2.45406567e-01 1.51558479e-01\n",
            " 3.60787298e-01 3.68017829e-01 3.55501606e-01 1.92341870e-01\n",
            " 3.37404446e-01 1.02598018e-01 2.99909505e-01 3.81437687e-01\n",
            " 3.36598813e-01 9.54696029e-03 1.76992863e-01 4.25937215e-08\n",
            " 3.37441007e-01 2.75661511e-01 5.25790765e-03 8.28584384e-03\n",
            " 2.33204018e-01 3.11401706e-01 3.52404128e-01 3.97313838e-02\n",
            " 3.45422884e-01 1.96696436e-01 3.88071051e-01 3.98776648e-01\n",
            " 3.98629041e-01 3.23182239e-01 3.34531091e-01 1.53940375e-01\n",
            " 2.71106069e-02 3.38565472e-01 3.95892589e-01 2.88785594e-01\n",
            " 3.75895428e-01 3.26883884e-01 2.02996982e-01 2.35808177e-01\n",
            " 3.66451563e-01 7.34875599e-02 3.98508171e-01 1.14872339e-01\n",
            " 3.34070575e-01 3.90854972e-01 2.92394214e-01 2.31413413e-01\n",
            " 3.19476352e-01 2.00386967e-01 2.31307057e-01 3.40395600e-01\n",
            " 3.57526569e-01 5.24148200e-02 3.75673993e-01 3.19799299e-01\n",
            " 3.92711333e-01 3.34666524e-01 1.44790435e-02 2.92330992e-01\n",
            " 3.10263241e-01 1.68893887e-01 1.31614235e-01 1.38450624e-01\n",
            " 3.84909349e-01 3.78614180e-01 6.47071817e-02 3.94479853e-01\n",
            " 3.83283506e-01 2.53879567e-01 2.74321161e-01 1.56611461e-01\n",
            " 3.52520453e-01 9.54903555e-05 3.48455880e-01 3.28509062e-01\n",
            " 4.24025959e-02 2.36622333e-01 3.84022571e-01 5.61117408e-02\n",
            " 1.56320431e-01 3.66221510e-01 3.46990697e-01 1.06138949e-03\n",
            " 2.40502235e-01 3.98101408e-01 8.80970037e-02 3.94270616e-01\n",
            " 8.90764107e-02 3.21686212e-01 3.98220748e-01 3.91488975e-01\n",
            " 3.92888082e-01 9.61431204e-02 2.47303662e-01 1.63480032e-01\n",
            " 2.47658193e-01 5.66438231e-03 3.38764740e-01 3.81482814e-01\n",
            " 3.12587330e-01 1.69947228e-01 3.40272183e-01 1.04565468e-01\n",
            " 3.84328402e-01 3.55603445e-01 2.36846888e-01 1.40743952e-02\n",
            " 1.10315426e-01 3.28679605e-01 3.93496850e-01 8.13803746e-05\n",
            " 2.69848732e-01 3.73585472e-01 3.92492068e-01 1.97759120e-01\n",
            " 1.99752979e-01 3.88645597e-01 3.81487715e-01 3.94755557e-01\n",
            " 2.88519487e-01 1.94502973e-03 3.62520608e-01 1.97421432e-01\n",
            " 3.37672739e-01 3.44838381e-01 7.52022891e-02 3.36141917e-01\n",
            " 7.03249786e-02 3.01871858e-01 7.34921733e-05 1.20488319e-01\n",
            " 1.66938455e-01 3.95620540e-01 3.95386169e-01 3.93455083e-01\n",
            " 7.79890279e-02 3.82812012e-01 3.84547931e-01 7.63739536e-02\n",
            " 2.39436813e-01 1.51189515e-01 5.58259663e-02 2.53964970e-02\n",
            " 2.09970464e-01 1.02091931e-02 3.98830313e-01 5.13623823e-03\n",
            " 3.62019163e-01 3.85514772e-01 9.22599336e-02 3.96887763e-01\n",
            " 2.71153227e-01 3.98674613e-01 3.98558664e-01 3.97074239e-01\n",
            " 3.98748910e-01 3.94743434e-01 4.23562021e-03 3.97048409e-01\n",
            " 1.80799226e-01 7.56565907e-02 3.94270238e-01 3.89087298e-01\n",
            " 3.25184984e-01 1.55406361e-01 3.26784154e-01 2.99917232e-01\n",
            " 3.45819550e-01 3.98791686e-01 3.64095466e-01 3.92686805e-01\n",
            " 3.41821977e-01 1.81015891e-01 3.98891704e-01 1.66501011e-01\n",
            " 3.64591411e-01 3.93708800e-01 4.04326693e-02 3.72931980e-01\n",
            " 5.72774014e-03 3.81439900e-01 2.80053051e-01 3.34440209e-01\n",
            " 3.10630612e-01 1.67572584e-03 3.00632676e-04 1.54026056e-01\n",
            " 3.95124808e-01 3.95273039e-01 2.11289626e-01 3.93285652e-01\n",
            " 2.36415996e-01 3.78020724e-01 1.34181145e-01 5.13151426e-02\n",
            " 3.88568465e-01 3.87538347e-01 1.06384162e-03 2.17016202e-06\n",
            " 3.73883251e-01 3.94349237e-03 3.75459402e-01 3.70918053e-01\n",
            " 2.18720119e-01 8.83380507e-02 3.19032765e-01 3.96131613e-01\n",
            " 3.03327989e-01 3.23705683e-01 3.08978243e-01 2.06191996e-05\n",
            " 2.75780336e-01 7.32093041e-03 3.33544690e-01 2.25199938e-01\n",
            " 3.98368469e-01 3.90668016e-01 3.46040341e-01 3.01832882e-01\n",
            " 3.69357249e-01 1.18816049e-02 3.82925741e-01 1.67701857e-01\n",
            " 2.70003347e-01 1.99540302e-07 1.55255250e-01 5.05751557e-02\n",
            " 2.27885710e-01 3.91769700e-01 3.49864624e-01 3.51008161e-01\n",
            " 2.75730947e-01 3.80269552e-01 3.74747527e-01 3.97761239e-01\n",
            " 3.38264806e-01 1.88623297e-04 3.43737255e-01 3.93678485e-01\n",
            " 3.07754744e-02 3.09011114e-01 3.96415317e-01 3.86998613e-01\n",
            " 3.97312876e-01 3.60319877e-01 8.39154406e-02 3.36884791e-01\n",
            " 1.27462215e-02 3.89791596e-01 3.47645712e-01 1.85963584e-01\n",
            " 6.46120051e-02 3.94432320e-01 3.72219650e-01 3.93441104e-01\n",
            " 3.49292945e-01 3.84133340e-01 2.66009938e-01 8.67120659e-07\n",
            " 3.66393997e-01 2.70789592e-01 3.86189663e-04 3.52883380e-01\n",
            " 3.86473266e-01 3.50964600e-01 1.73637273e-01 3.42463443e-01\n",
            " 3.95918642e-01 3.98841205e-01 1.51183935e-01 3.01715850e-02\n",
            " 3.24658455e-01 2.81031707e-02 3.25637855e-01 1.35116839e-01\n",
            " 6.84394395e-03 1.21976859e-02 3.96728773e-01 3.59353846e-01\n",
            " 1.00527604e-01 3.76384738e-01 3.95647031e-01 2.53573347e-01\n",
            " 3.87704511e-01 7.67408847e-02 4.69684641e-02 3.81044421e-01\n",
            " 3.84587192e-02 3.49758707e-01 3.93770969e-01 3.87824789e-01\n",
            " 1.47977936e-01 2.84393149e-01 1.57634923e-01 3.88231968e-01\n",
            " 3.41946462e-01 3.97525102e-01 3.94286420e-01 3.82372938e-01\n",
            " 3.74516055e-01 3.74577755e-01 3.26211356e-01 3.94908488e-01\n",
            " 2.26465196e-01 3.98245830e-01 1.76702611e-01 3.46705817e-01\n",
            " 3.13014195e-03 1.98939957e-01 5.99744821e-09 2.96696882e-01\n",
            " 2.93805012e-01 2.44456204e-02 3.98826513e-01 3.96273220e-01\n",
            " 2.92217602e-01 2.30663206e-01 3.90504024e-01 3.76278765e-01\n",
            " 3.45926353e-01 3.56920939e-01 3.47036654e-01 2.10390047e-01\n",
            " 3.51011839e-01 2.40194783e-03 2.91921506e-01 2.99878318e-01\n",
            " 3.16763239e-01 2.20624547e-01 5.22844710e-02 3.98920550e-01\n",
            " 3.95092816e-01 3.76670536e-01 3.98891546e-01 3.07632198e-01\n",
            " 3.97845456e-01 3.86542437e-01 3.83085688e-01 2.05022260e-01\n",
            " 3.87719092e-12 3.87680987e-01 9.95408950e-02 4.09805663e-02\n",
            " 2.97415944e-01 2.83161534e-01 8.03109188e-02 5.30330799e-02\n",
            " 1.87631929e-01 3.04593470e-02 1.70924890e-01 3.70263385e-01\n",
            " 2.52934714e-01 1.75117693e-01 1.10071689e-01 3.78754204e-01\n",
            " 2.59609783e-01 3.98824484e-01 2.95132043e-01 3.96058268e-01\n",
            " 8.20002405e-02 3.80647688e-01 2.04432223e-01 2.50544095e-02\n",
            " 1.58531605e-01 6.85471222e-09 3.31137533e-01 1.85427265e-01\n",
            " 6.82794162e-02 2.23747278e-01 3.79789603e-01 3.98253509e-01\n",
            " 3.75312870e-01 3.41900151e-01 3.98349002e-01 3.57605511e-01\n",
            " 8.43520331e-02 2.48639199e-01 3.69478715e-01 3.70119753e-06\n",
            " 3.74031564e-01 3.04575357e-01 2.94535789e-01 7.58050665e-02\n",
            " 3.94285431e-01 1.85734140e-01 2.07947637e-01 3.53735106e-01\n",
            " 1.69781760e-01 2.81713483e-01 3.28395326e-01 1.49937103e-01\n",
            " 3.95496916e-01 2.36225462e-01 3.73223873e-01 3.92656112e-01\n",
            " 3.69736185e-01 3.95151047e-01 1.96447644e-01 3.98937642e-01\n",
            " 1.98345664e-01 2.92317826e-01 3.65817083e-01 3.09653810e-01\n",
            " 3.83752418e-01 3.95856846e-01 3.98941746e-01 3.98357897e-01\n",
            " 1.93810338e-01 3.98063181e-01 2.89524181e-01 3.31332750e-01\n",
            " 3.87438949e-01 1.91497581e-03 3.83249769e-01 2.09883138e-01\n",
            " 2.35639766e-01 1.11854498e-03 1.69837846e-01 1.95295164e-01\n",
            " 2.16399135e-02 2.93069209e-06 3.47783822e-01 1.81825757e-04\n",
            " 2.60505423e-01 3.86536731e-04 3.03694833e-01 3.68643810e-01\n",
            " 2.96424183e-01 3.76842378e-01 3.22454120e-01 3.12118630e-01\n",
            " 3.86396102e-01 3.53300675e-01 3.53682886e-01 2.78684429e-01\n",
            " 2.01090035e-01 3.80148826e-01 3.93074112e-01 3.98784941e-01\n",
            " 3.52506238e-01 2.30486048e-01 2.80521745e-01 1.40594976e-01\n",
            " 3.98769353e-01 3.38400108e-01 4.49552416e-02 3.95394427e-01\n",
            " 3.98646053e-01 6.49427106e-02 1.11195016e-03 3.91379847e-01\n",
            " 3.03836583e-01 3.98485863e-01 3.97652049e-01 3.84482244e-01\n",
            " 3.62268127e-01 2.49040267e-01 2.52309007e-01 3.62392597e-01\n",
            " 7.88095761e-03 2.44413917e-01 3.13546948e-01 2.92333720e-01\n",
            " 3.69701112e-01 3.84822019e-01 7.46638199e-02 2.44262684e-01\n",
            " 2.49357266e-01 3.35953068e-01 2.09044507e-01 1.52595803e-01\n",
            " 3.98924590e-01 3.96243652e-01 1.47820517e-01 2.38096893e-01\n",
            " 3.19901583e-01 1.56623507e-01 1.43290321e-01 3.93543443e-01\n",
            " 1.25487570e-01 3.98634372e-01 3.80586568e-01 3.69778543e-01\n",
            " 1.09039950e-01 3.70459082e-01 2.07298199e-02 3.00165865e-01\n",
            " 3.92826740e-01 4.42931187e-02 2.74556698e-01 3.98254110e-01\n",
            " 1.99251153e-06 6.68538360e-10 3.90522701e-01 3.90620814e-01\n",
            " 3.76540741e-01 2.68193841e-01 3.98129278e-01 1.25724963e-01\n",
            " 3.02437574e-02 3.75603555e-01 3.39900513e-01 3.73245293e-01\n",
            " 3.48235571e-01 3.00615953e-02 3.63629301e-01 3.68455136e-01\n",
            " 2.19697301e-01 3.31851139e-01 3.62670235e-01 3.98908799e-01\n",
            " 2.26104110e-01 3.98650377e-01 3.98493176e-01 3.87139483e-01\n",
            " 3.05637385e-01 3.78833285e-01 3.23450055e-01 3.98247047e-01\n",
            " 1.73257587e-04 2.22615709e-02 2.36187535e-01 2.24519111e-01\n",
            " 3.98045054e-01 1.60036044e-03 3.83766327e-01 8.31675691e-03\n",
            " 3.66654075e-01 3.70148475e-01 1.33093529e-01 2.04663452e-01\n",
            " 2.72471052e-01 3.84499432e-01 3.08834517e-01 2.03694170e-01\n",
            " 3.98392581e-01 6.60493720e-02 1.80047873e-01 8.56809574e-02\n",
            " 4.12050211e-03 6.70862041e-02 3.83385367e-01 3.89267726e-01\n",
            " 1.17506844e-01 2.84931874e-03 3.95815990e-01 3.32581707e-01\n",
            " 2.21010794e-01 2.39655757e-02 3.60203991e-01 2.83785906e-01\n",
            " 3.93461701e-01 3.60797328e-01 2.79392868e-01 3.68094563e-01\n",
            " 1.31832671e-01 1.07591693e-01 3.89301344e-01 3.01439879e-01\n",
            " 3.09896467e-01 2.10447070e-01 1.06566918e-01 1.55121728e-01\n",
            " 3.73379217e-01 3.01634175e-01 3.62338224e-01 3.60137851e-01\n",
            " 8.64859721e-06 1.26220444e-01 3.85165243e-01 3.26099023e-01\n",
            " 3.73376157e-03 3.72728039e-01 1.51505031e-01 1.96632035e-01\n",
            " 3.91523262e-01 2.14875559e-01 1.96985337e-01 1.72892184e-01\n",
            " 3.23460713e-01 5.67201868e-02 3.95482686e-01 3.95768881e-01\n",
            " 7.65015466e-08 3.38803966e-01 2.81550033e-01 3.88144867e-01\n",
            " 1.27613699e-01 9.22478984e-04 6.38738746e-02 2.78060370e-01\n",
            " 2.77102242e-04 3.75021909e-01 3.79262575e-01 3.28664126e-01\n",
            " 3.98631552e-01 2.99671066e-01 3.83769464e-01 3.96249860e-01\n",
            " 3.30631646e-01 3.66244160e-01 3.91531847e-01 3.66060742e-01\n",
            " 2.84177019e-01 3.92401555e-01 3.38012840e-01 7.74083848e-02\n",
            " 1.38368524e-01 1.97037289e-06 3.02387860e-01 1.55570656e-01\n",
            " 2.50867040e-01 2.53261709e-02 3.86170438e-01 1.93102499e-01\n",
            " 1.92155401e-02 2.24507247e-01 3.95765676e-01 3.73008549e-01\n",
            " 3.78698243e-01 5.65885313e-03 3.98780503e-01 2.05333491e-01\n",
            " 3.20808200e-01 3.90955501e-01 1.64728342e-01 5.76439289e-02\n",
            " 3.98750716e-01 8.89262527e-02 2.63382837e-01 3.54614069e-02\n",
            " 2.49487242e-01 3.88548520e-01 4.91061089e-03 4.63020716e-04\n",
            " 3.43517330e-01 3.16156585e-01 3.57396099e-01 3.33091301e-01\n",
            " 3.85591596e-01 2.24009437e-01 3.98419582e-01 3.87635755e-01\n",
            " 3.15794770e-01 1.11051560e-01 1.94911702e-12 3.88191204e-01\n",
            " 2.45338935e-01 3.73859087e-01 2.84646478e-01 3.32890943e-01\n",
            " 3.92035969e-01 2.93657241e-01 3.19964888e-01 8.49806180e-04\n",
            " 3.16406511e-01 1.66789113e-01 3.53787202e-01 2.12561553e-01\n",
            " 2.22447144e-01 3.56214344e-01 3.98848488e-01 3.76469430e-01\n",
            " 3.95566864e-01 1.91492169e-01 2.51485377e-01 2.02000648e-01\n",
            " 3.38829965e-01 2.89646234e-01 1.91208158e-02 5.27099447e-03]\n"
          ],
          "name": "stdout"
        },
        {
          "output_type": "error",
          "ename": "TypeError",
          "evalue": "ignored",
          "traceback": [
            "\u001b[0;31m---------------------------------------------------------------------------\u001b[0m",
            "\u001b[0;31mTypeError\u001b[0m                                 Traceback (most recent call last)",
            "\u001b[0;32m<ipython-input-74-a7a47de8c074>\u001b[0m in \u001b[0;36m<module>\u001b[0;34m()\u001b[0m\n\u001b[1;32m      3\u001b[0m   \u001b[0mprint\u001b[0m\u001b[0;34m(\u001b[0m\u001b[0mnorm\u001b[0m\u001b[0;34m.\u001b[0m\u001b[0mexpect\u001b[0m\u001b[0;34m(\u001b[0m\u001b[0mdata_type\u001b[0m\u001b[0;34m,\u001b[0m \u001b[0mlb\u001b[0m \u001b[0;34m=\u001b[0m \u001b[0;34m-\u001b[0m\u001b[0;36m10\u001b[0m\u001b[0;34m**\u001b[0m\u001b[0;34m(\u001b[0m\u001b[0;36m10\u001b[0m\u001b[0;34m)\u001b[0m\u001b[0;34m,\u001b[0m \u001b[0mub\u001b[0m \u001b[0;34m=\u001b[0m \u001b[0;36m10\u001b[0m\u001b[0;34m**\u001b[0m\u001b[0;34m(\u001b[0m\u001b[0;36m10\u001b[0m\u001b[0;34m)\u001b[0m\u001b[0;34m)\u001b[0m\u001b[0;34m)\u001b[0m\u001b[0;34m\u001b[0m\u001b[0;34m\u001b[0m\u001b[0m\n\u001b[1;32m      4\u001b[0m \u001b[0;34m\u001b[0m\u001b[0m\n\u001b[0;32m----> 5\u001b[0;31m \u001b[0mblabla\u001b[0m\u001b[0;34m(\u001b[0m\u001b[0mdata_expon\u001b[0m\u001b[0;34m)\u001b[0m\u001b[0;34m\u001b[0m\u001b[0;34m\u001b[0m\u001b[0m\n\u001b[0m",
            "\u001b[0;32m<ipython-input-74-a7a47de8c074>\u001b[0m in \u001b[0;36mblabla\u001b[0;34m(data_type)\u001b[0m\n\u001b[1;32m      1\u001b[0m \u001b[0;32mdef\u001b[0m \u001b[0mblabla\u001b[0m\u001b[0;34m(\u001b[0m\u001b[0mdata_type\u001b[0m\u001b[0;34m)\u001b[0m\u001b[0;34m:\u001b[0m\u001b[0;34m\u001b[0m\u001b[0;34m\u001b[0m\u001b[0m\n\u001b[1;32m      2\u001b[0m   \u001b[0mprint\u001b[0m\u001b[0;34m(\u001b[0m\u001b[0mnorm\u001b[0m\u001b[0;34m.\u001b[0m\u001b[0mpdf\u001b[0m\u001b[0;34m(\u001b[0m\u001b[0mdata_type\u001b[0m\u001b[0;34m)\u001b[0m\u001b[0;34m)\u001b[0m\u001b[0;34m\u001b[0m\u001b[0;34m\u001b[0m\u001b[0m\n\u001b[0;32m----> 3\u001b[0;31m   \u001b[0mprint\u001b[0m\u001b[0;34m(\u001b[0m\u001b[0mnorm\u001b[0m\u001b[0;34m.\u001b[0m\u001b[0mexpect\u001b[0m\u001b[0;34m(\u001b[0m\u001b[0mdata_type\u001b[0m\u001b[0;34m,\u001b[0m \u001b[0mlb\u001b[0m \u001b[0;34m=\u001b[0m \u001b[0;34m-\u001b[0m\u001b[0;36m10\u001b[0m\u001b[0;34m**\u001b[0m\u001b[0;34m(\u001b[0m\u001b[0;36m10\u001b[0m\u001b[0;34m)\u001b[0m\u001b[0;34m,\u001b[0m \u001b[0mub\u001b[0m \u001b[0;34m=\u001b[0m \u001b[0;36m10\u001b[0m\u001b[0;34m**\u001b[0m\u001b[0;34m(\u001b[0m\u001b[0;36m10\u001b[0m\u001b[0;34m)\u001b[0m\u001b[0;34m)\u001b[0m\u001b[0;34m)\u001b[0m\u001b[0;34m\u001b[0m\u001b[0;34m\u001b[0m\u001b[0m\n\u001b[0m\u001b[1;32m      4\u001b[0m \u001b[0;34m\u001b[0m\u001b[0m\n\u001b[1;32m      5\u001b[0m \u001b[0mblabla\u001b[0m\u001b[0;34m(\u001b[0m\u001b[0mdata_expon\u001b[0m\u001b[0;34m)\u001b[0m\u001b[0;34m\u001b[0m\u001b[0;34m\u001b[0m\u001b[0m\n",
            "\u001b[0;32m/usr/local/lib/python3.6/dist-packages/scipy/stats/_distn_infrastructure.py\u001b[0m in \u001b[0;36mexpect\u001b[0;34m(self, func, args, loc, scale, lb, ub, conditional, **kwds)\u001b[0m\n\u001b[1;32m   2536\u001b[0m         \u001b[0;31m# Silence floating point warnings from integration.\u001b[0m\u001b[0;34m\u001b[0m\u001b[0;34m\u001b[0m\u001b[0;34m\u001b[0m\u001b[0m\n\u001b[1;32m   2537\u001b[0m         \u001b[0molderr\u001b[0m \u001b[0;34m=\u001b[0m \u001b[0mnp\u001b[0m\u001b[0;34m.\u001b[0m\u001b[0mseterr\u001b[0m\u001b[0;34m(\u001b[0m\u001b[0mall\u001b[0m\u001b[0;34m=\u001b[0m\u001b[0;34m'ignore'\u001b[0m\u001b[0;34m)\u001b[0m\u001b[0;34m\u001b[0m\u001b[0;34m\u001b[0m\u001b[0m\n\u001b[0;32m-> 2538\u001b[0;31m         \u001b[0mvals\u001b[0m \u001b[0;34m=\u001b[0m \u001b[0mintegrate\u001b[0m\u001b[0;34m.\u001b[0m\u001b[0mquad\u001b[0m\u001b[0;34m(\u001b[0m\u001b[0mfun\u001b[0m\u001b[0;34m,\u001b[0m \u001b[0mlb\u001b[0m\u001b[0;34m,\u001b[0m \u001b[0mub\u001b[0m\u001b[0;34m,\u001b[0m \u001b[0;34m**\u001b[0m\u001b[0mkwds\u001b[0m\u001b[0;34m)\u001b[0m\u001b[0;34m[\u001b[0m\u001b[0;36m0\u001b[0m\u001b[0;34m]\u001b[0m \u001b[0;34m/\u001b[0m \u001b[0minvfac\u001b[0m\u001b[0;34m\u001b[0m\u001b[0;34m\u001b[0m\u001b[0m\n\u001b[0m\u001b[1;32m   2539\u001b[0m         \u001b[0mnp\u001b[0m\u001b[0;34m.\u001b[0m\u001b[0mseterr\u001b[0m\u001b[0;34m(\u001b[0m\u001b[0;34m**\u001b[0m\u001b[0molderr\u001b[0m\u001b[0;34m)\u001b[0m\u001b[0;34m\u001b[0m\u001b[0;34m\u001b[0m\u001b[0m\n\u001b[1;32m   2540\u001b[0m         \u001b[0;32mreturn\u001b[0m \u001b[0mvals\u001b[0m\u001b[0;34m\u001b[0m\u001b[0;34m\u001b[0m\u001b[0m\n",
            "\u001b[0;32m/usr/local/lib/python3.6/dist-packages/scipy/integrate/quadpack.py\u001b[0m in \u001b[0;36mquad\u001b[0;34m(func, a, b, args, full_output, epsabs, epsrel, limit, points, weight, wvar, wopts, maxp1, limlst)\u001b[0m\n\u001b[1;32m    340\u001b[0m     \u001b[0;32mif\u001b[0m \u001b[0mweight\u001b[0m \u001b[0;32mis\u001b[0m \u001b[0;32mNone\u001b[0m\u001b[0;34m:\u001b[0m\u001b[0;34m\u001b[0m\u001b[0;34m\u001b[0m\u001b[0m\n\u001b[1;32m    341\u001b[0m         retval = _quad(func, a, b, args, full_output, epsabs, epsrel, limit,\n\u001b[0;32m--> 342\u001b[0;31m                        points)\n\u001b[0m\u001b[1;32m    343\u001b[0m     \u001b[0;32melse\u001b[0m\u001b[0;34m:\u001b[0m\u001b[0;34m\u001b[0m\u001b[0;34m\u001b[0m\u001b[0m\n\u001b[1;32m    344\u001b[0m         \u001b[0;32mif\u001b[0m \u001b[0mpoints\u001b[0m \u001b[0;32mis\u001b[0m \u001b[0;32mnot\u001b[0m \u001b[0;32mNone\u001b[0m\u001b[0;34m:\u001b[0m\u001b[0;34m\u001b[0m\u001b[0;34m\u001b[0m\u001b[0m\n",
            "\u001b[0;32m/usr/local/lib/python3.6/dist-packages/scipy/integrate/quadpack.py\u001b[0m in \u001b[0;36m_quad\u001b[0;34m(func, a, b, args, full_output, epsabs, epsrel, limit, points)\u001b[0m\n\u001b[1;32m    451\u001b[0m     \u001b[0;32mif\u001b[0m \u001b[0mpoints\u001b[0m \u001b[0;32mis\u001b[0m \u001b[0;32mNone\u001b[0m\u001b[0;34m:\u001b[0m\u001b[0;34m\u001b[0m\u001b[0;34m\u001b[0m\u001b[0m\n\u001b[1;32m    452\u001b[0m         \u001b[0;32mif\u001b[0m \u001b[0minfbounds\u001b[0m \u001b[0;34m==\u001b[0m \u001b[0;36m0\u001b[0m\u001b[0;34m:\u001b[0m\u001b[0;34m\u001b[0m\u001b[0;34m\u001b[0m\u001b[0m\n\u001b[0;32m--> 453\u001b[0;31m             \u001b[0;32mreturn\u001b[0m \u001b[0m_quadpack\u001b[0m\u001b[0;34m.\u001b[0m\u001b[0m_qagse\u001b[0m\u001b[0;34m(\u001b[0m\u001b[0mfunc\u001b[0m\u001b[0;34m,\u001b[0m\u001b[0ma\u001b[0m\u001b[0;34m,\u001b[0m\u001b[0mb\u001b[0m\u001b[0;34m,\u001b[0m\u001b[0margs\u001b[0m\u001b[0;34m,\u001b[0m\u001b[0mfull_output\u001b[0m\u001b[0;34m,\u001b[0m\u001b[0mepsabs\u001b[0m\u001b[0;34m,\u001b[0m\u001b[0mepsrel\u001b[0m\u001b[0;34m,\u001b[0m\u001b[0mlimit\u001b[0m\u001b[0;34m)\u001b[0m\u001b[0;34m\u001b[0m\u001b[0;34m\u001b[0m\u001b[0m\n\u001b[0m\u001b[1;32m    454\u001b[0m         \u001b[0;32melse\u001b[0m\u001b[0;34m:\u001b[0m\u001b[0;34m\u001b[0m\u001b[0;34m\u001b[0m\u001b[0m\n\u001b[1;32m    455\u001b[0m             \u001b[0;32mreturn\u001b[0m \u001b[0m_quadpack\u001b[0m\u001b[0;34m.\u001b[0m\u001b[0m_qagie\u001b[0m\u001b[0;34m(\u001b[0m\u001b[0mfunc\u001b[0m\u001b[0;34m,\u001b[0m\u001b[0mbound\u001b[0m\u001b[0;34m,\u001b[0m\u001b[0minfbounds\u001b[0m\u001b[0;34m,\u001b[0m\u001b[0margs\u001b[0m\u001b[0;34m,\u001b[0m\u001b[0mfull_output\u001b[0m\u001b[0;34m,\u001b[0m\u001b[0mepsabs\u001b[0m\u001b[0;34m,\u001b[0m\u001b[0mepsrel\u001b[0m\u001b[0;34m,\u001b[0m\u001b[0mlimit\u001b[0m\u001b[0;34m)\u001b[0m\u001b[0;34m\u001b[0m\u001b[0;34m\u001b[0m\u001b[0m\n",
            "\u001b[0;32m/usr/local/lib/python3.6/dist-packages/scipy/stats/_distn_infrastructure.py\u001b[0m in \u001b[0;36mfun\u001b[0;34m(x, *args)\u001b[0m\n\u001b[1;32m   2523\u001b[0m         \u001b[0;32melse\u001b[0m\u001b[0;34m:\u001b[0m\u001b[0;34m\u001b[0m\u001b[0;34m\u001b[0m\u001b[0m\n\u001b[1;32m   2524\u001b[0m             \u001b[0;32mdef\u001b[0m \u001b[0mfun\u001b[0m\u001b[0;34m(\u001b[0m\u001b[0mx\u001b[0m\u001b[0;34m,\u001b[0m \u001b[0;34m*\u001b[0m\u001b[0margs\u001b[0m\u001b[0;34m)\u001b[0m\u001b[0;34m:\u001b[0m\u001b[0;34m\u001b[0m\u001b[0;34m\u001b[0m\u001b[0m\n\u001b[0;32m-> 2525\u001b[0;31m                 \u001b[0;32mreturn\u001b[0m \u001b[0mfunc\u001b[0m\u001b[0;34m(\u001b[0m\u001b[0mx\u001b[0m\u001b[0;34m)\u001b[0m \u001b[0;34m*\u001b[0m \u001b[0mself\u001b[0m\u001b[0;34m.\u001b[0m\u001b[0mpdf\u001b[0m\u001b[0;34m(\u001b[0m\u001b[0mx\u001b[0m\u001b[0;34m,\u001b[0m \u001b[0;34m*\u001b[0m\u001b[0margs\u001b[0m\u001b[0;34m,\u001b[0m \u001b[0;34m**\u001b[0m\u001b[0mlockwds\u001b[0m\u001b[0;34m)\u001b[0m\u001b[0;34m\u001b[0m\u001b[0;34m\u001b[0m\u001b[0m\n\u001b[0m\u001b[1;32m   2526\u001b[0m         \u001b[0;32mif\u001b[0m \u001b[0mlb\u001b[0m \u001b[0;32mis\u001b[0m \u001b[0;32mNone\u001b[0m\u001b[0;34m:\u001b[0m\u001b[0;34m\u001b[0m\u001b[0;34m\u001b[0m\u001b[0m\n\u001b[1;32m   2527\u001b[0m             \u001b[0mlb\u001b[0m \u001b[0;34m=\u001b[0m \u001b[0mloc\u001b[0m \u001b[0;34m+\u001b[0m \u001b[0m_a\u001b[0m \u001b[0;34m*\u001b[0m \u001b[0mscale\u001b[0m\u001b[0;34m\u001b[0m\u001b[0;34m\u001b[0m\u001b[0m\n",
            "\u001b[0;31mTypeError\u001b[0m: 'numpy.ndarray' object is not callable"
          ]
        }
      ]
    },
    {
      "cell_type": "code",
      "metadata": {
        "id": "o9LJVMHZBX3i",
        "colab_type": "code",
        "colab": {}
      },
      "source": [
        "def lazy_expectation_value(data_type):\n",
        "  print(scipy.stats.rv_continuous.pdf(data_type)) \n",
        "  #scipy.stats.rv_continuous.expect(pdf, lb = inf, ub = sup)\n",
        "\n",
        "lazy_expectation_value(data_normal)"
      ],
      "execution_count": 0,
      "outputs": []
    },
    {
      "cell_type": "code",
      "metadata": {
        "id": "mrzBWj6M2Kos",
        "colab_type": "code",
        "colab": {}
      },
      "source": [
        "LazyRealWorld(\"NORMAL DISTRIBUTION\", data_normal)\n",
        "LazyRealWorld(\"POISSON DISTRIBUTION\", data_poisson)\n",
        "LazyRealWorld(\"EXPONENTIAL DISTRIBUTION\", data_expon)\n",
        "LazyRealWorld(\"BINOMIAL DISTRIBUTION\", data_binom)"
      ],
      "execution_count": 0,
      "outputs": []
    },
    {
      "cell_type": "markdown",
      "metadata": {
        "id": "Tpido32I-HQU",
        "colab_type": "text"
      },
      "source": [
        "###Meaning of calculated quantities\n",
        "\n",
        "Mean is the same as average which is the same as expectation value, if one does infinetely many measurements. Infinetely many measurements of the mean would give you the expectation value, as is nicely illustrated [here](https://math.stackexchange.com/a/1355657/735657).\n",
        "\n",
        "Standard deviation is a measure of how widely spread is the distribution. The square of a standard deviation is called variance. \n",
        "\n",
        "Skewness is a measure of asymmetry of the distribution (for example, gaussian distribution is very symetrical and hence has very low skewness, in ideal case zero, while exponential distribution is very asymmetrical, and wull hence have large skewness; it will also be a positive number since the bigger part is to the left of the graph). \n",
        "\n",
        "Kurtosis is a measure of a \"tailedness\" of the distribution. For example, if the distribution has a more narrow peak than the gaussian, kurtosis will be positive, and if the distribution has a more wide&lower peak than the gaussian, kurtosis will be negative."
      ]
    }
  ]
}