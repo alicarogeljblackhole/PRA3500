{
  "nbformat": 4,
  "nbformat_minor": 0,
  "metadata": {
    "colab": {
      "name": "Untitled9.ipynb",
      "provenance": []
    },
    "kernelspec": {
      "name": "python3",
      "display_name": "Python 3"
    }
  },
  "cells": [
    {
      "cell_type": "code",
      "metadata": {
        "id": "xn3r2Ed1UZkr",
        "colab_type": "code",
        "colab": {}
      },
      "source": [
        "#CODE OVERVIEW\n",
        "\n",
        "def chi_square(repetitions, null_activate, statistics, daughter_particles, assume_origin, dx, dy, daughter_ignore):\n",
        "  chi/2/3/4=[]\n",
        "  prediction_a/b=[]\n",
        "  y/xNM=[] #cross points\n",
        "  centroid=[]\n",
        "  *define detector\n",
        "\n",
        "  for p in range(daughter_particles):\n",
        "    for k in range(repetitions):\n",
        "      \n",
        "      *find real xyz coordinates\n",
        "      *find which cell detects the particle (smallness error)\n",
        "\n",
        "      if all detectors detect the particle:\n",
        "        *get measured coordinates of the particle, all errors included\n",
        "        *find a, b for predicted fit\n",
        "          if assume_origin==True, set b=0\n",
        "        *find chi-square\n",
        "  *append chi-squares & a,b to the chi-squares & prediction_a/b lists\n",
        "\n",
        "      if not all detectors detect the particle:\n",
        "  *append \"False\" to prediction_a/b lists\n",
        "\n",
        "    *remove infinities from chi-square lists \n",
        "\n",
        "  *find during which repetitions (for all daughters) was a particle not detected by all 8 detectors\n",
        "  *remove these repetitions from all daughters (eg. for D1, rep 4 escapes, fo D3, rep 1,4 escape,\n",
        "    for D4 rep 12 escapes: remove from all daughters repetitions 1,4 & 12 - data should be comparable\n",
        "    -> do that by removing appropriate elements from prediction_a/b lists, which contain info on all\n",
        "       daughters and all repetitions)\n",
        "  *substract the number of repetitions removed from repetitions, set that as repetitions parameter now on\n",
        "  \n",
        "  *while j<=4:\n",
        "    if j==0:\n",
        "      *find cross points for all repetitions\n",
        "      *calculate centroid for those points\n",
        "      *plot decay points\n",
        "      *remove 1% of chi values in case null_activated==True\n",
        "      *get chi values\n",
        "      *get statistics\n",
        "    if daugther_ignore==True:\n",
        "      if j=1/2/3:\n",
        "        ***do the same as for j==0, except ignore D1/D2/D3 in calculations***\n",
        "      \n",
        "\n",
        "\n",
        "\n"
      ],
      "execution_count": 0,
      "outputs": []
    }
  ]
}